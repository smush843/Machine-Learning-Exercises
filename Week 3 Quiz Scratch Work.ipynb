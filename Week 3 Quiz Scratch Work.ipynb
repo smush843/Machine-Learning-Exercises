{
 "cells": [
  {
   "cell_type": "code",
   "execution_count": 1,
   "id": "d1e05c9b",
   "metadata": {},
   "outputs": [
    {
     "data": {
      "text/plain": [
       "Period('2019-06', 'M')"
      ]
     },
     "execution_count": 1,
     "metadata": {},
     "output_type": "execute_result"
    }
   ],
   "source": [
    "import pandas as pd\n",
    "pd.Period('01/12/2019', 'M') + 5"
   ]
  },
  {
   "cell_type": "code",
   "execution_count": 2,
   "id": "9246a3d8",
   "metadata": {},
   "outputs": [
    {
     "data": {
      "text/plain": [
       "5"
      ]
     },
     "execution_count": 2,
     "metadata": {},
     "output_type": "execute_result"
    }
   ],
   "source": [
    "import pandas as pd\n",
    "(pd.Timestamp('11/29/2019') + pd.offsets.MonthEnd()).weekday()"
   ]
  },
  {
   "cell_type": "code",
   "execution_count": null,
   "id": "e2ef3786",
   "metadata": {},
   "outputs": [],
   "source": [
    "# 1. Consider the two DataFrames shown below, both of which have Name as the index. \n",
    "# Which of the following expressions can be used to get the data of all students (from student_df) including their roles as staff, where nan denotes no role?\n",
    "\n",
    "# pd.merge(student_df, staff_df, how='left', left_index=True, right_index=True)\n",
    "\n",
    "# 2. Consider a DataFrame named df with columns named P2010, P2011, P2012, P2013, 2014 and P2015 containing float values. \n",
    "# We want to use the apply method to get a new DataFrame named result_df with a new column AVG. \n",
    "# The AVG column should average the float values across P2010 to P2015. The apply method should also remove the 6 original columns (P2010 to P2015). \n",
    "# For that, what should be the value of x and y in the given code?\n",
    "\n",
    "# frames = ['P2010', 'P2011', 'P2012', 'P2013','P2014', 'P2015']\n",
    "# df['AVG'] = df[frames].apply(lambda z: np.mean(z), axis=x)\n",
    "# result_df = df.drop(frames,axis=y)\n",
    "\n",
    "# x = 1\n",
    "# y = 1\n",
    "\n",
    "# 3.  Consider the Dataframe df below, instantiated with a list of grades, ordered from best grade to worst. \n",
    "# Which of the following options can be used to substitute X in the code given below, if we want to get all the grades between 'A' and 'B' where 'A' is better than 'B'?\n",
    "\n",
    "# import pandas as pd\n",
    "# df = pd.DataFrame(['A+', 'A', 'A-', 'B+', 'B', 'B-', 'C+', 'C', 'C-', 'D+', 'D'], index=['excellent', 'excellent', 'excellent', 'good', 'good', 'good', 'ok', 'ok', 'ok', 'poor', 'poor'], columns = ['Grades'])\n",
    "# my_categories= X\n",
    "# grades = df['Grades'].astype(my_categories)\n",
    "# result = grades[(grades>'B') & (grades<'A')]\n",
    "\n",
    "# my_categories = pd.CategoricalDtype(categories=['D', 'D+', 'C-', 'C', 'C+', 'B-', 'B', 'B+', 'A-', 'A', 'A+'], ordered=True)\n",
    "\n",
    "# 4. Consider the DataFrame df shown in the image below. Which of the following can return the head of the pivot table as shown in the image below df?\n",
    "\n",
    "# df.pivot_table(values='score', index='country', columns='Rank_Level', aggfunc=[np.median], margins=True)\n",
    "\n",
    "\n",
    "# 5. Assume that the date '11/29/2019' in MM/DD/YYYY format is the 4th day of the week, what will be the result of the following?\n",
    "\n",
    "# import pandas as pd\n",
    "# (pd.Timestamp('11/29/2019') + pd.offsets.MonthEnd()).weekday()\n",
    "\n",
    "\n",
    "# 5\n",
    "\n",
    "# 6. Consider a DataFrame df. We want to create groups based on the column group_key in the DataFrame and fill the nan values with group means using:\n",
    "\n",
    "# filling_mean = lambda g: g.fillna(g.mean())\n",
    "\n",
    "# df.groupby(group_key).apply(filling_mean)\n",
    "\n",
    "# 7. Consider the DataFrames above, both of which have a standard integer based index. Which of the following can be used to get the data of all students\n",
    "# (from student_df) and merge it with their staff roles where nan denotes no role?\n",
    "\n",
    "# result_df = pd.merge(staff_df, student_df, how='right', on=['First Name', 'Last Name'])\n",
    "\n",
    "# 8. Consider a DataFrame df with columns name, reviews_per_month, and review_scores_value. This DataFrame also consists of several missing values. \n",
    "# Which of the following can be used to:\n",
    "\n",
    "# 1. calculate the number of entries in the name column, and\n",
    "\n",
    "# 2. calculate the mean and standard deviation of the reviews_per_month, grouping by different review_scores_value?\n",
    "\n",
    "# df.groupby('review_scores_value').agg({'name': len, 'reviews_per_month': (np.nanmean, np.nanstd)})\n",
    "\n",
    "# 9. What will be the result of the following code?:\n",
    "\n",
    "# import pandas as pd\n",
    "# pd.Period('01/12/2019', 'M') + 5\n",
    "\n",
    "# Period('2019-06', 'M')\n",
    "\n",
    "# 10. Which of the following is not a valid expression to create a Pandas GroupBy object from the DataFrame shown below?\n",
    "\n",
    "# df.groupby('vegetable')"
   ]
  },
  {
   "cell_type": "code",
   "execution_count": null,
   "id": "e88c10c0",
   "metadata": {},
   "outputs": [],
   "source": []
  }
 ],
 "metadata": {
  "kernelspec": {
   "display_name": "Python 3 (ipykernel)",
   "language": "python",
   "name": "python3"
  },
  "language_info": {
   "codemirror_mode": {
    "name": "ipython",
    "version": 3
   },
   "file_extension": ".py",
   "mimetype": "text/x-python",
   "name": "python",
   "nbconvert_exporter": "python",
   "pygments_lexer": "ipython3",
   "version": "3.9.13"
  }
 },
 "nbformat": 4,
 "nbformat_minor": 5
}
