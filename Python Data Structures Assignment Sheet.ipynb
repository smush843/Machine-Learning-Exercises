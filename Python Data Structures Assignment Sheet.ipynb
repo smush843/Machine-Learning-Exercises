{
 "cells": [
  {
   "cell_type": "markdown",
   "id": "f4a851a6",
   "metadata": {},
   "source": [
    "# Python Data Structures\n",
    "# Strings, Lists, Dictionaries, and Tuples"
   ]
  },
  {
   "cell_type": "code",
   "execution_count": 2,
   "id": "bc09618b",
   "metadata": {},
   "outputs": [
    {
     "name": "stdout",
     "output_type": "stream",
     "text": [
      "Hellothere\n"
     ]
    }
   ],
   "source": [
    "# Quiz\n",
    "\n",
    "str1 = \"Hello\"\n",
    "str2 = 'there'\n",
    "bob = str1 + str2\n",
    "print(bob)"
   ]
  },
  {
   "cell_type": "code",
   "execution_count": 2,
   "id": "3af63319",
   "metadata": {},
   "outputs": [
    {
     "name": "stdout",
     "output_type": "stream",
     "text": [
      "42\n"
     ]
    }
   ],
   "source": [
    "# Quiz\n",
    "\n",
    "x = '40'\n",
    "y = int(x) + 2\n",
    "print(y)"
   ]
  },
  {
   "cell_type": "code",
   "execution_count": 3,
   "id": "bd3d2a7d",
   "metadata": {},
   "outputs": [
    {
     "data": {
      "text/plain": [
       "8"
      ]
     },
     "execution_count": 3,
     "metadata": {},
     "output_type": "execute_result"
    }
   ],
   "source": [
    "# Quiz\n",
    "\n",
    "x = 'From marquard@uct.ac.za'\n",
    "x.find(\"q\")"
   ]
  },
  {
   "cell_type": "code",
   "execution_count": 4,
   "id": "a0421918",
   "metadata": {},
   "outputs": [
    {
     "name": "stdout",
     "output_type": "stream",
     "text": [
      "q\n"
     ]
    }
   ],
   "source": [
    "# Quiz\n",
    "\n",
    "print(x[8])"
   ]
  },
  {
   "cell_type": "code",
   "execution_count": 5,
   "id": "f651d229",
   "metadata": {},
   "outputs": [
    {
     "data": {
      "text/plain": [
       "14"
      ]
     },
     "execution_count": 5,
     "metadata": {},
     "output_type": "execute_result"
    }
   ],
   "source": [
    "# Quiz\n",
    "\n",
    "x.find(\"uct\")"
   ]
  },
  {
   "cell_type": "code",
   "execution_count": 6,
   "id": "67ca0770",
   "metadata": {},
   "outputs": [
    {
     "name": "stdout",
     "output_type": "stream",
     "text": [
      "uct\n"
     ]
    }
   ],
   "source": [
    "# Quiz\n",
    "\n",
    "print(x[14:17])"
   ]
  },
  {
   "cell_type": "code",
   "execution_count": 7,
   "id": "46de28a7",
   "metadata": {},
   "outputs": [
    {
     "name": "stdout",
     "output_type": "stream",
     "text": [
      "42\n"
     ]
    }
   ],
   "source": [
    "# Quiz\n",
    "\n",
    "print(len('banana')*7)"
   ]
  },
  {
   "cell_type": "code",
   "execution_count": 8,
   "id": "c7b88297",
   "metadata": {},
   "outputs": [
    {
     "name": "stdout",
     "output_type": "stream",
     "text": [
      "HELLO BOB\n"
     ]
    }
   ],
   "source": [
    "# Quiz \n",
    "\n",
    "greet = 'Hello Bob'\n",
    "print(greet.upper())"
   ]
  },
  {
   "cell_type": "code",
   "execution_count": 11,
   "id": "dd5656b5",
   "metadata": {},
   "outputs": [
    {
     "data": {
      "text/plain": [
       "['__add__',\n",
       " '__class__',\n",
       " '__contains__',\n",
       " '__delattr__',\n",
       " '__dir__',\n",
       " '__doc__',\n",
       " '__eq__',\n",
       " '__format__',\n",
       " '__ge__',\n",
       " '__getattribute__',\n",
       " '__getitem__',\n",
       " '__getnewargs__',\n",
       " '__gt__',\n",
       " '__hash__',\n",
       " '__init__',\n",
       " '__init_subclass__',\n",
       " '__iter__',\n",
       " '__le__',\n",
       " '__len__',\n",
       " '__lt__',\n",
       " '__mod__',\n",
       " '__mul__',\n",
       " '__ne__',\n",
       " '__new__',\n",
       " '__reduce__',\n",
       " '__reduce_ex__',\n",
       " '__repr__',\n",
       " '__rmod__',\n",
       " '__rmul__',\n",
       " '__setattr__',\n",
       " '__sizeof__',\n",
       " '__str__',\n",
       " '__subclasshook__',\n",
       " 'capitalize',\n",
       " 'casefold',\n",
       " 'center',\n",
       " 'count',\n",
       " 'encode',\n",
       " 'endswith',\n",
       " 'expandtabs',\n",
       " 'find',\n",
       " 'format',\n",
       " 'format_map',\n",
       " 'index',\n",
       " 'isalnum',\n",
       " 'isalpha',\n",
       " 'isascii',\n",
       " 'isdecimal',\n",
       " 'isdigit',\n",
       " 'isidentifier',\n",
       " 'islower',\n",
       " 'isnumeric',\n",
       " 'isprintable',\n",
       " 'isspace',\n",
       " 'istitle',\n",
       " 'isupper',\n",
       " 'join',\n",
       " 'ljust',\n",
       " 'lower',\n",
       " 'lstrip',\n",
       " 'maketrans',\n",
       " 'partition',\n",
       " 'removeprefix',\n",
       " 'removesuffix',\n",
       " 'replace',\n",
       " 'rfind',\n",
       " 'rindex',\n",
       " 'rjust',\n",
       " 'rpartition',\n",
       " 'rsplit',\n",
       " 'rstrip',\n",
       " 'split',\n",
       " 'splitlines',\n",
       " 'startswith',\n",
       " 'strip',\n",
       " 'swapcase',\n",
       " 'title',\n",
       " 'translate',\n",
       " 'upper',\n",
       " 'zfill']"
      ]
     },
     "execution_count": 11,
     "metadata": {},
     "output_type": "execute_result"
    }
   ],
   "source": [
    "# Example of directory method\n",
    "\n",
    "dir(greet)"
   ]
  },
  {
   "cell_type": "code",
   "execution_count": 12,
   "id": "40714ae9",
   "metadata": {},
   "outputs": [
    {
     "name": "stdout",
     "output_type": "stream",
     "text": [
      ".ma\n"
     ]
    }
   ],
   "source": [
    "# Quiz\n",
    "\n",
    "data = 'From stephen.marquard@uct.ac.za Sat Jan  5 09:14:16 2008'\n",
    "pos = data.find('.')\n",
    "print(data[pos:pos+3])"
   ]
  },
  {
   "cell_type": "code",
   "execution_count": 11,
   "id": "e6e5b30f",
   "metadata": {},
   "outputs": [
    {
     "name": "stdout",
     "output_type": "stream",
     "text": [
      "0.8475\n"
     ]
    }
   ],
   "source": [
    "# 6.5 Write code using find() and string slicing (see section 6.10) to extract the number at the end of the line below.\n",
    "# Convert the extracted value to a floating point number and print it out.\\\n",
    "# Desired Output: 0.8475\n",
    "\n",
    "text = \"X-DSPAM-Confidence:    0.8475\"\n",
    "atpos = text.find(\"0\")\n",
    "# print(atpos)\n",
    "sppos = text.find(\"5\")\n",
    "# print(sppos)\n",
    "# text[23]\n",
    "# text[28]\n",
    "# text[23:]\n",
    "number = float(text[23:])\n",
    "# print(type(number))\n",
    "print(number)"
   ]
  },
  {
   "cell_type": "code",
   "execution_count": 11,
   "id": "e6886d1e",
   "metadata": {},
   "outputs": [
    {
     "name": "stdout",
     "output_type": "stream",
     "text": [
      "Enter file name: words.txt\n",
      "WRITING PROGRAMS OR PROGRAMMING IS A VERY CREATIVE\n",
      "AND REWARDING ACTIVITY  YOU CAN WRITE PROGRAMS FOR\n",
      "MANY REASONS RANGING FROM MAKING YOUR LIVING TO SOLVING\n",
      "A DIFFICULT DATA ANALYSIS PROBLEM TO HAVING FUN TO HELPING\n",
      "SOMEONE ELSE SOLVE A PROBLEM  THIS BOOK ASSUMES THAT\n",
      "{\\EM EVERYONE} NEEDS TO KNOW HOW TO PROGRAM AND THAT ONCE\n",
      "YOU KNOW HOW TO PROGRAM, YOU WILL FIGURE OUT WHAT YOU WANT\n",
      "TO DO WITH YOUR NEWFOUND SKILLS\n",
      "\n",
      "WE ARE SURROUNDED IN OUR DAILY LIVES WITH COMPUTERS RANGING\n",
      "FROM LAPTOPS TO CELL PHONES  WE CAN THINK OF THESE COMPUTERS\n",
      "AS OUR PERSONAL ASSISTANTS WHO CAN TAKE CARE OF MANY THINGS\n",
      "ON OUR BEHALF  THE HARDWARE IN OUR CURRENT-DAY COMPUTERS\n",
      "IS ESSENTIALLY BUILT TO CONTINUOUSLY ASK US THE QUESTION\n",
      "WHAT WOULD YOU LIKE ME TO DO NEXT\n",
      "\n",
      "OUR COMPUTERS ARE FAST AND HAVE VASTS AMOUNTS OF MEMORY AND\n",
      "COULD BE VERY HELPFUL TO US IF WE ONLY KNEW THE LANGUAGE TO\n",
      "SPEAK TO EXPLAIN TO THE COMPUTER WHAT WE WOULD LIKE IT TO\n",
      "DO NEXT IF WE KNEW THIS LANGUAGE WE COULD TELL THE\n",
      "COMPUTER TO DO TASKS ON OUR BEHALF THAT WERE REPTITIVE\n",
      "INTERESTINGLY, THE KINDS OF THINGS COMPUTERS CAN DO BEST\n",
      "ARE OFTEN THE KINDS OF THINGS THAT WE HUMANS FIND BORING\n",
      "AND MIND-NUMBING\n"
     ]
    }
   ],
   "source": [
    "# 7.1 Write a program that prompts for a file name, then opens that file and reads through the file, \n",
    "# and print the contents of the file in upper case. Use the file words.txt to produce the output below.\n",
    "# You can download the sample data at http://www.py4e.com/code3/words.txt\n",
    "\n",
    "# Use words.txt as the file name\n",
    "fname = input(\"Enter file name: \")\n",
    "fh = open(fname)\n",
    "\n",
    "for line in fh:\n",
    "    line = line.rstrip()\n",
    "    print(line.upper())\n"
   ]
  },
  {
   "cell_type": "code",
   "execution_count": 21,
   "id": "61678f6b",
   "metadata": {},
   "outputs": [
    {
     "name": "stdout",
     "output_type": "stream",
     "text": [
      "Enter file name: mbox-short.txt\n",
      "Average spam confidence:  0.7507185185185187\n"
     ]
    }
   ],
   "source": [
    "# 7.2 Write a program that prompts for a file name, then opens that file and reads through the file,\n",
    "# looking for lines of the form:\n",
    "# X-DSPAM-Confidence:    0.8475\n",
    "    \n",
    "# Count these lines and extract the floating point values from each of the lines and compute the average of those \n",
    "# and produce an output as shown below. Do not use the sum() function or a variable named sum in your solution.\n",
    "# You can download the sample data at http://www.py4e.com/code3/mbox-short.txt when you are testing below enter mbox-short.txt \n",
    "# as the file name.\n",
    "\n",
    "# Desired Output: Average spam confidence: 0.7507185185185187\n",
    "\n",
    "# Use the file name mbox-short.txt as the file name\n",
    "fname = input(\"Enter file name: \")\n",
    "fh = open(fname)\n",
    "myList = []\n",
    "count = 0\n",
    "for line in fh:\n",
    "    if not line.startswith(\"X-DSPAM-Confidence:\"):\n",
    "        continue\n",
    "    var = float(line[20:])\n",
    "    myList.append(var)\n",
    "\n",
    "for i in myList:\n",
    "    count += i\n",
    "    \n",
    "print(\"Average spam confidence:\", count/len(myList))\n",
    "    \n",
    "# print(myList)\n",
    "#     print(line[20:])\n",
    "#     print(line)\n",
    "# print(\"Done\")"
   ]
  },
  {
   "cell_type": "code",
   "execution_count": 1,
   "id": "acf5e28f",
   "metadata": {},
   "outputs": [
    {
     "ename": "TypeError",
     "evalue": "'str' object does not support item assignment",
     "output_type": "error",
     "traceback": [
      "\u001b[1;31m---------------------------------------------------------------------------\u001b[0m",
      "\u001b[1;31mTypeError\u001b[0m                                 Traceback (most recent call last)",
      "\u001b[1;32m~\\AppData\\Local\\Temp\\1\\ipykernel_568\\1094328789.py\u001b[0m in \u001b[0;36m<module>\u001b[1;34m\u001b[0m\n\u001b[0;32m      1\u001b[0m \u001b[0mfruit\u001b[0m \u001b[1;33m=\u001b[0m \u001b[1;34m'Banana'\u001b[0m\u001b[1;33m\u001b[0m\u001b[1;33m\u001b[0m\u001b[0m\n\u001b[1;32m----> 2\u001b[1;33m \u001b[0mfruit\u001b[0m\u001b[1;33m[\u001b[0m\u001b[1;36m0\u001b[0m\u001b[1;33m]\u001b[0m \u001b[1;33m=\u001b[0m \u001b[1;34m'b'\u001b[0m\u001b[1;33m\u001b[0m\u001b[1;33m\u001b[0m\u001b[0m\n\u001b[0m\u001b[0;32m      3\u001b[0m \u001b[0mprint\u001b[0m\u001b[1;33m(\u001b[0m\u001b[0mfruit\u001b[0m\u001b[1;33m)\u001b[0m\u001b[1;33m\u001b[0m\u001b[1;33m\u001b[0m\u001b[0m\n",
      "\u001b[1;31mTypeError\u001b[0m: 'str' object does not support item assignment"
     ]
    }
   ],
   "source": [
    "# Quiz\n",
    "\n",
    "fruit = 'Banana'\n",
    "fruit[0] = 'b'\n",
    "print(fruit)"
   ]
  },
  {
   "cell_type": "code",
   "execution_count": 7,
   "id": "9a190503",
   "metadata": {},
   "outputs": [
    {
     "name": "stdout",
     "output_type": "stream",
     "text": [
      "<class 'range'>\n",
      "<class 'list'>\n",
      "<class 'int'>\n"
     ]
    }
   ],
   "source": [
    "# Quiz\n",
    "\n",
    "x = list(range(5))\n",
    "x\n",
    "print(type(range(5)))\n",
    "print(type(x))\n",
    "print(type(x[0]))"
   ]
  },
  {
   "cell_type": "code",
   "execution_count": 8,
   "id": "85720ba5",
   "metadata": {},
   "outputs": [
    {
     "name": "stdout",
     "output_type": "stream",
     "text": [
      "6\n"
     ]
    }
   ],
   "source": [
    "# Quiz\n",
    "\n",
    "a = [1, 2, 3]\n",
    "b = [4, 5, 6]\n",
    "c = a + b\n",
    "print(len(c))"
   ]
  },
  {
   "cell_type": "code",
   "execution_count": 9,
   "id": "6a26a644",
   "metadata": {},
   "outputs": [
    {
     "name": "stdout",
     "output_type": "stream",
     "text": [
      "Glenn\n"
     ]
    }
   ],
   "source": [
    "# Quiz\n",
    "\n",
    "friends = [ 'Joseph', 'Glenn', 'Sally' ]\n",
    "friends.sort()\n",
    "print(friends[0])"
   ]
  },
  {
   "cell_type": "code",
   "execution_count": 13,
   "id": "a9aa6845",
   "metadata": {},
   "outputs": [
    {
     "name": "stdout",
     "output_type": "stream",
     "text": [
      "Enter file name: romeo.txt\n",
      "['Arise', 'But', 'It', 'Juliet', 'Who', 'already', 'and', 'breaks', 'east', 'envious', 'fair', 'grief', 'is', 'kill', 'light', 'moon', 'pale', 'sick', 'soft', 'sun', 'the', 'through', 'what', 'window', 'with', 'yonder']\n"
     ]
    }
   ],
   "source": [
    "# 8.4 Open the file romeo.txt and read it line by line. For each line, split the line into a list of words using the split() \n",
    "# method. The program should build a list of words. For each word on each line check to see if the word is already in the list\n",
    "# and if not append it to the list. When the program completes, sort and print the resulting words in python sort() order as\n",
    "# shown in the desired output.\n",
    "# You can download the sample data at http://www.py4e.com/code3/romeo.txt\n",
    "\n",
    "# Desired Output: ['Arise', 'But', 'It', 'Juliet', 'Who', 'already', 'and', 'breaks', 'east', \n",
    "#                  'envious', 'fair', 'grief', 'is', 'kill', 'light', 'moon', 'pale', 'sick', 'soft',\n",
    "#                  'sun', 'the', 'through', 'what', 'window', 'with', 'yonder']\n",
    "\n",
    "fname = input(\"Enter file name: \")\n",
    "fh = open(fname)\n",
    "lst = list()\n",
    "x = list()\n",
    "\n",
    "for line in fh:\n",
    "    lst = line.split()\n",
    "    for word in lst:\n",
    "        if not word in x:\n",
    "            x.append(word)\n",
    "    x.sort()\n",
    "    \n",
    "print(x)\n",
    "\n",
    "            \n",
    "# x.sort()\n",
    "    \n",
    "# print(x)\n",
    "\n",
    "# x.find('and')"
   ]
  },
  {
   "cell_type": "code",
   "execution_count": 17,
   "id": "6796a7e5",
   "metadata": {},
   "outputs": [
    {
     "name": "stdout",
     "output_type": "stream",
     "text": [
      "Enter file name: mbox-short.txt\n",
      "stephen.marquard@uct.ac.za\n",
      "louis@media.berkeley.edu\n",
      "zqian@umich.edu\n",
      "rjlowe@iupui.edu\n",
      "zqian@umich.edu\n",
      "rjlowe@iupui.edu\n",
      "cwen@iupui.edu\n",
      "cwen@iupui.edu\n",
      "gsilver@umich.edu\n",
      "gsilver@umich.edu\n",
      "zqian@umich.edu\n",
      "gsilver@umich.edu\n",
      "wagnermr@iupui.edu\n",
      "zqian@umich.edu\n",
      "antranig@caret.cam.ac.uk\n",
      "gopal.ramasammycook@gmail.com\n",
      "david.horwitz@uct.ac.za\n",
      "david.horwitz@uct.ac.za\n",
      "david.horwitz@uct.ac.za\n",
      "david.horwitz@uct.ac.za\n",
      "stephen.marquard@uct.ac.za\n",
      "louis@media.berkeley.edu\n",
      "louis@media.berkeley.edu\n",
      "ray@media.berkeley.edu\n",
      "cwen@iupui.edu\n",
      "cwen@iupui.edu\n",
      "cwen@iupui.edu\n",
      "There were 27 lines in the file with From as the first word\n"
     ]
    }
   ],
   "source": [
    "# 8.5 Open the file mbox-short.txt and read it line by line. When you find a line that starts with 'From ' like the following \n",
    "# line:\n",
    "# From stephen.marquard@uct.ac.za Sat Jan  5 09:14:16 2008\n",
    "# You will parse the From line using split() and print out the second word in the line\n",
    "# (i.e. the entire address of the person who sent the message). Then print out a count at the end.\n",
    "# Hint: make sure not to include the lines that start with 'From:'. \n",
    "# Also look at the last line of the sample output to see how to print the count.\n",
    "\n",
    "# # Desired Output:\n",
    "# stephen.marquard@uct.ac.za\n",
    "# louis@media.berkeley.edu\n",
    "# zqian@umich.edu\n",
    "# rjlowe@iupui.edu\n",
    "# zqian@umich.edu\n",
    "# rjlowe@iupui.edu\n",
    "# cwen@iupui.edu\n",
    "# cwen@iupui.edu\n",
    "# gsilver@umich.edu\n",
    "# gsilver@umich.edu\n",
    "# zqian@umich.edu\n",
    "# gsilver@umich.edu\n",
    "# wagnermr@iupui.edu\n",
    "# zqian@umich.edu\n",
    "# antranig@caret.cam.ac.uk\n",
    "# gopal.ramasammycook@gmail.com\n",
    "# david.horwitz@uct.ac.za\n",
    "# david.horwitz@uct.ac.za\n",
    "# david.horwitz@uct.ac.za\n",
    "# david.horwitz@uct.ac.za\n",
    "# stephen.marquard@uct.ac.za\n",
    "# louis@media.berkeley.edu\n",
    "# louis@media.berkeley.edu\n",
    "# ray@media.berkeley.edu\n",
    "# cwen@iupui.edu\n",
    "# cwen@iupui.edu\n",
    "# cwen@iupui.edu\n",
    "# There were 27 lines in the file with From as the first word\n",
    "\n",
    "\n",
    "fname = input(\"Enter file name: \")\n",
    "if len(fname) < 1:\n",
    "    fname = \"mbox-short.txt\"\n",
    "\n",
    "fh = open(fname)\n",
    "count = 0\n",
    "lst = []\n",
    "\n",
    "for line in fh:\n",
    "    if line.startswith('From '):\n",
    "        newLine = line.split()\n",
    "        lst.append(newLine)\n",
    "        count += 1\n",
    "\n",
    "for element in lst:\n",
    "    print(element[1])\n",
    "\n",
    "print(\"There were\", count, \"lines in the file with From as the first word\")\n",
    "\n"
   ]
  },
  {
   "cell_type": "code",
   "execution_count": 18,
   "id": "8ff45b15",
   "metadata": {},
   "outputs": [
    {
     "ename": "KeyError",
     "evalue": "'candy'",
     "output_type": "error",
     "traceback": [
      "\u001b[1;31m---------------------------------------------------------------------------\u001b[0m",
      "\u001b[1;31mKeyError\u001b[0m                                  Traceback (most recent call last)",
      "\u001b[1;32m~\\AppData\\Local\\Temp\\1\\ipykernel_20348\\3350742330.py\u001b[0m in \u001b[0;36m<module>\u001b[1;34m\u001b[0m\n\u001b[0;32m      1\u001b[0m \u001b[0mstuff\u001b[0m \u001b[1;33m=\u001b[0m \u001b[0mdict\u001b[0m\u001b[1;33m(\u001b[0m\u001b[1;33m)\u001b[0m\u001b[1;33m\u001b[0m\u001b[1;33m\u001b[0m\u001b[0m\n\u001b[1;32m----> 2\u001b[1;33m \u001b[0mprint\u001b[0m\u001b[1;33m(\u001b[0m\u001b[0mstuff\u001b[0m\u001b[1;33m[\u001b[0m\u001b[1;34m'candy'\u001b[0m\u001b[1;33m]\u001b[0m\u001b[1;33m)\u001b[0m\u001b[1;33m\u001b[0m\u001b[1;33m\u001b[0m\u001b[0m\n\u001b[0m",
      "\u001b[1;31mKeyError\u001b[0m: 'candy'"
     ]
    }
   ],
   "source": [
    "stuff = dict()\n",
    "print(stuff['candy'])"
   ]
  },
  {
   "cell_type": "code",
   "execution_count": 19,
   "id": "06ecf6f3",
   "metadata": {},
   "outputs": [
    {
     "name": "stdout",
     "output_type": "stream",
     "text": [
      "-1\n"
     ]
    }
   ],
   "source": [
    "stuff = dict()\n",
    "print(stuff.get('candy',-1))"
   ]
  },
  {
   "cell_type": "code",
   "execution_count": 1,
   "id": "f4626ece",
   "metadata": {},
   "outputs": [
    {
     "name": "stdout",
     "output_type": "stream",
     "text": [
      "Enter file:mbox-short.txt\n",
      "cwen@iupui.edu 5\n"
     ]
    }
   ],
   "source": [
    "# 9.4 Write a program to read through the mbox-short.txt and figure out who has sent the greatest number of mail messages.\n",
    "# The program looks for 'From ' lines and takes the second word of those lines as the person who sent the mail. \n",
    "# The program creates a Python dictionary that maps the sender's mail address to a count of the number of times they appear in\n",
    "# the file. After the dictionary is produced, the program reads through the dictionary using a maximum loop to find the most\n",
    "# prolific committer.\n",
    "\n",
    "# Desired Output: cwen@iupui.edu 5\n",
    "\n",
    "name = input(\"Enter file:\")\n",
    "if len(name) < 1:\n",
    "    name = \"mbox-short.txt\"\n",
    "handle = open(name)\n",
    "\n",
    "lst = []\n",
    "emails = []\n",
    "email_tracker = {}\n",
    "\n",
    "for line in handle:\n",
    "    if line.startswith('From '):\n",
    "        newLine = line.split()\n",
    "        lst.append(newLine)\n",
    "        \n",
    "for element in lst:\n",
    "    emails.append(element[1])\n",
    "    \n",
    "for email in emails:\n",
    "    email_tracker[email] = email_tracker.get(email, 0) + 1\n",
    "    \n",
    "bigCount = None\n",
    "bigEmail = None\n",
    "\n",
    "for email,count in email_tracker.items():\n",
    "    if bigCount is None or count > bigCount:\n",
    "        bigEmail = email\n",
    "        bigCount = count\n",
    "        \n",
    "print(bigEmail, bigCount)\n",
    "    \n",
    "        "
   ]
  },
  {
   "cell_type": "code",
   "execution_count": 27,
   "id": "fe6d87c0",
   "metadata": {},
   "outputs": [
    {
     "name": "stdout",
     "output_type": "stream",
     "text": [
      "Enter file name: mbox-short.txt\n",
      "['stephen.marquard@uct.ac.za', 'louis@media.berkeley.edu', 'zqian@umich.edu', 'rjlowe@iupui.edu', 'zqian@umich.edu', 'rjlowe@iupui.edu', 'cwen@iupui.edu', 'cwen@iupui.edu', 'gsilver@umich.edu', 'gsilver@umich.edu', 'zqian@umich.edu', 'gsilver@umich.edu', 'wagnermr@iupui.edu', 'zqian@umich.edu', 'antranig@caret.cam.ac.uk', 'gopal.ramasammycook@gmail.com', 'david.horwitz@uct.ac.za', 'david.horwitz@uct.ac.za', 'david.horwitz@uct.ac.za', 'david.horwitz@uct.ac.za', 'stephen.marquard@uct.ac.za', 'louis@media.berkeley.edu', 'louis@media.berkeley.edu', 'ray@media.berkeley.edu', 'cwen@iupui.edu', 'cwen@iupui.edu', 'cwen@iupui.edu']\n",
      "There were 27 lines in the file with From as the first word\n"
     ]
    }
   ],
   "source": [
    "# Experimental code modified from exercise 8.5 to help find the solution for 9.4. The objective here is to create a list \n",
    "# containing all of the emails contained in the mbox-short.txt file where the line starts with \"From \"\n",
    "# Objective complete. \n",
    "\n",
    "fname = input(\"Enter file name: \")\n",
    "if len(fname) < 1:\n",
    "    fname = \"mbox-short.txt\"\n",
    "\n",
    "fh = open(fname)\n",
    "count = 0\n",
    "lst = []\n",
    "emails = []\n",
    "for line in fh:\n",
    "    if line.startswith('From '):\n",
    "        newLine = line.split()\n",
    "        lst.append(newLine)\n",
    "        count += 1\n",
    "\n",
    "for element in lst:\n",
    "    emails.append(element[1])\n",
    "    \n",
    "print(emails)\n",
    "\n",
    "print(\"There were\", count, \"lines in the file with From as the first word\")"
   ]
  },
  {
   "cell_type": "code",
   "execution_count": 4,
   "id": "c2608c18",
   "metadata": {},
   "outputs": [
    {
     "data": {
      "text/plain": [
       "True"
      ]
     },
     "execution_count": 4,
     "metadata": {},
     "output_type": "execute_result"
    }
   ],
   "source": [
    "# Quiz\n",
    "\n",
    "x = (5, 1, 3)\n",
    "(6, 0, 0)> x "
   ]
  },
  {
   "cell_type": "code",
   "execution_count": 6,
   "id": "d3086341",
   "metadata": {},
   "outputs": [
    {
     "name": "stdout",
     "output_type": "stream",
     "text": [
      "Wed\n"
     ]
    }
   ],
   "source": [
    "# Quiz\n",
    "\n",
    "days = ('Mon', 'Tue', 'Wed', 'Thu', 'Fri', 'Sat', 'Sun')\n",
    "print(days[2])"
   ]
  },
  {
   "cell_type": "code",
   "execution_count": 28,
   "id": "a47c39d4",
   "metadata": {},
   "outputs": [
    {
     "name": "stdout",
     "output_type": "stream",
     "text": [
      "Enter file:mbox-short.txt\n",
      "04 3\n",
      "06 1\n",
      "07 1\n",
      "09 2\n",
      "10 3\n",
      "11 6\n",
      "14 1\n",
      "15 2\n",
      "16 4\n",
      "17 2\n",
      "18 1\n",
      "19 1\n"
     ]
    }
   ],
   "source": [
    "# 10.2 Write a program to read through the mbox-short.txt and figure out the distribution by hour of the day for each of \n",
    "# the messages. You can pull the hour out from the 'From ' line by finding the time and then splitting the string a second time \n",
    "# using a colon.\n",
    "# From stephen.marquard@uct.ac.za Sat Jan  5 09:14:16 2008\n",
    "# Once you have accumulated the counts for each hour, print out the counts, sorted by hour as shown below.\n",
    "\n",
    "# Desired Output: \n",
    "\n",
    "# 04 3\n",
    "# 06 1\n",
    "# 07 1\n",
    "# 09 2\n",
    "# 10 3\n",
    "# 11 6\n",
    "# 14 1\n",
    "# 15 2\n",
    "# 16 4\n",
    "# 17 2\n",
    "# 18 1\n",
    "# 19 1\n",
    "\n",
    "name = input(\"Enter file:\")\n",
    "if len(name) < 1:\n",
    "    name = \"mbox-short.txt\"\n",
    "handle = open(name)\n",
    "\n",
    "fh = open(name)\n",
    "lst = []\n",
    "time = []\n",
    "hours = []\n",
    "hour_tracker = {}\n",
    "\n",
    "for line in fh:\n",
    "    if line.startswith('From '):\n",
    "        newLine = line.split()\n",
    "        lst.append(newLine)\n",
    "\n",
    "for element in lst:\n",
    "    time.append(element[5])\n",
    "\n",
    "for element in time:\n",
    "    hours.append(element[0:2])\n",
    "\n",
    "for hour in hours:\n",
    "    hour_tracker[hour] = hour_tracker.get(hour, 0) + 1\n",
    "\n",
    "hour_count = []\n",
    "for key, val in hour_tracker.items():\n",
    "    newtup = (key, val)\n",
    "    hour_count.append(newtup)\n",
    "\n",
    "hour_count = sorted(hour_count)\n",
    "\n",
    "for element in hour_count:\n",
    "    print(element[0], element[1])"
   ]
  }
 ],
 "metadata": {
  "kernelspec": {
   "display_name": "Python 3 (ipykernel)",
   "language": "python",
   "name": "python3"
  },
  "language_info": {
   "codemirror_mode": {
    "name": "ipython",
    "version": 3
   },
   "file_extension": ".py",
   "mimetype": "text/x-python",
   "name": "python",
   "nbconvert_exporter": "python",
   "pygments_lexer": "ipython3",
   "version": "3.9.13"
  }
 },
 "nbformat": 4,
 "nbformat_minor": 5
}
