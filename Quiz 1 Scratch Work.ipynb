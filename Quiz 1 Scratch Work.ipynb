{
 "cells": [
  {
   "cell_type": "markdown",
   "id": "459e5e81",
   "metadata": {},
   "source": [
    "# Quiz 1 Scratch Work"
   ]
  },
  {
   "cell_type": "code",
   "execution_count": 9,
   "id": "b92c8a63",
   "metadata": {},
   "outputs": [
    {
     "name": "stdout",
     "output_type": "stream",
     "text": [
      "['bat', 'bot']\n"
     ]
    }
   ],
   "source": [
    "# 1.\n",
    "# Question 1\n",
    "# \"What will be the output of the following code?\n",
    "\n",
    "import re\n",
    "string = 'bat, lat, mat, bet, let, met, bit, lit, mit, bot, lot, mot'\n",
    "result = re.findall('b[ao]t', string)\n",
    "print(result)"
   ]
  },
  {
   "cell_type": "code",
   "execution_count": 4,
   "id": "8fff4194",
   "metadata": {},
   "outputs": [],
   "source": [
    "# Assume a and b are two (20, 20) numpy arrays. The L2-distance (defined above) between two equal dimension arrays can be \n",
    "# calculated in python as follows:\n",
    "\n",
    "import numpy as np\n",
    "\n",
    "a = np.random.rand(20,20)\n",
    "b = np.random.rand(20,20)\n",
    "\n",
    "def l2_dist(a, b):\n",
    "    result = ((a - b) * (a - b)).sum()\n",
    "    result = result ** 0.5\n",
    "    return result "
   ]
  },
  {
   "cell_type": "code",
   "execution_count": null,
   "id": "3b433d21",
   "metadata": {},
   "outputs": [],
   "source": [
    "# Which of the following expressions using this function will produce a different result from the rest?"
   ]
  },
  {
   "cell_type": "code",
   "execution_count": 5,
   "id": "75944106",
   "metadata": {},
   "outputs": [
    {
     "data": {
      "text/plain": [
       "8.243948216572695"
      ]
     },
     "execution_count": 5,
     "metadata": {},
     "output_type": "execute_result"
    }
   ],
   "source": [
    "# A\n",
    "l2_dist(a, b)"
   ]
  },
  {
   "cell_type": "code",
   "execution_count": 6,
   "id": "9a376ce2",
   "metadata": {},
   "outputs": [
    {
     "data": {
      "text/plain": [
       "162.31885040824307"
      ]
     },
     "execution_count": 6,
     "metadata": {},
     "output_type": "execute_result"
    }
   ],
   "source": [
    "# B\n",
    "l2_dist(np.reshape(a, (20 * 20)), np.reshape(b, (20 * 20, 1)))"
   ]
  },
  {
   "cell_type": "code",
   "execution_count": 7,
   "id": "85fad82b",
   "metadata": {},
   "outputs": [
    {
     "data": {
      "text/plain": [
       "8.243948216572695"
      ]
     },
     "execution_count": 7,
     "metadata": {},
     "output_type": "execute_result"
    }
   ],
   "source": [
    "# C\n",
    "l2_dist(np.reshape(a, (20 * 20)), np.reshape(b, (20 * 20)))"
   ]
  },
  {
   "cell_type": "code",
   "execution_count": 8,
   "id": "a1cff9e1",
   "metadata": {},
   "outputs": [
    {
     "data": {
      "text/plain": [
       "8.243948216572695"
      ]
     },
     "execution_count": 8,
     "metadata": {},
     "output_type": "execute_result"
    }
   ],
   "source": [
    "# D\n",
    "l2_dist(a.T, b.T)"
   ]
  },
  {
   "cell_type": "code",
   "execution_count": null,
   "id": "9b23267c",
   "metadata": {},
   "outputs": [],
   "source": [
    "# The correct answer is B"
   ]
  },
  {
   "cell_type": "code",
   "execution_count": 10,
   "id": "2832fae5",
   "metadata": {},
   "outputs": [],
   "source": [
    "# 3.\n",
    "# Question 3\n",
    "# Consider the following variables in Python:\n",
    "\n",
    "a1 = np.random.rand(4)\n",
    "a2 = np.random.rand(4, 1)\n",
    "a3 = np.array([[1, 2, 3, 4]])\n",
    "a4 = np.arange(1, 4, 1)\n",
    "a5 = np.linspace(1 ,4, 4)"
   ]
  },
  {
   "cell_type": "code",
   "execution_count": null,
   "id": "7f2fe075",
   "metadata": {},
   "outputs": [],
   "source": [
    "# Which of the following statements regarding these variables is correct?"
   ]
  },
  {
   "cell_type": "code",
   "execution_count": 11,
   "id": "f035069a",
   "metadata": {},
   "outputs": [
    {
     "ename": "TypeError",
     "evalue": "'int' object is not callable",
     "output_type": "error",
     "traceback": [
      "\u001b[1;31m---------------------------------------------------------------------------\u001b[0m",
      "\u001b[1;31mTypeError\u001b[0m                                 Traceback (most recent call last)",
      "\u001b[1;32m~\\AppData\\Local\\Temp\\1\\ipykernel_18732\\4263446348.py\u001b[0m in \u001b[0;36m<module>\u001b[1;34m\u001b[0m\n\u001b[1;32m----> 1\u001b[1;33m \u001b[0ma4\u001b[0m\u001b[1;33m.\u001b[0m\u001b[0mndim\u001b[0m\u001b[1;33m(\u001b[0m\u001b[1;33m)\u001b[0m \u001b[1;33m==\u001b[0m \u001b[1;36m1\u001b[0m\u001b[1;33m\u001b[0m\u001b[1;33m\u001b[0m\u001b[0m\n\u001b[0m",
      "\u001b[1;31mTypeError\u001b[0m: 'int' object is not callable"
     ]
    }
   ],
   "source": [
    "# A\n",
    "a4.ndim() == 1"
   ]
  },
  {
   "cell_type": "code",
   "execution_count": 13,
   "id": "edfaebcc",
   "metadata": {},
   "outputs": [
    {
     "data": {
      "text/plain": [
       "False"
      ]
     },
     "execution_count": 13,
     "metadata": {},
     "output_type": "execute_result"
    }
   ],
   "source": [
    "# B\n",
    "a1.shape == a2.shape"
   ]
  },
  {
   "cell_type": "code",
   "execution_count": 14,
   "id": "b5af4ce5",
   "metadata": {},
   "outputs": [
    {
     "data": {
      "text/plain": [
       "True"
      ]
     },
     "execution_count": 14,
     "metadata": {},
     "output_type": "execute_result"
    }
   ],
   "source": [
    "# C\n",
    "a5.shape == a1.shape"
   ]
  },
  {
   "cell_type": "code",
   "execution_count": 15,
   "id": "3b638d28",
   "metadata": {},
   "outputs": [
    {
     "data": {
      "text/plain": [
       "False"
      ]
     },
     "execution_count": 15,
     "metadata": {},
     "output_type": "execute_result"
    }
   ],
   "source": [
    "# D\n",
    "a3.shape == a4.shape"
   ]
  },
  {
   "cell_type": "code",
   "execution_count": null,
   "id": "207a0c31",
   "metadata": {},
   "outputs": [],
   "source": [
    "# C is the correct answer"
   ]
  },
  {
   "cell_type": "code",
   "execution_count": 16,
   "id": "e54d6168",
   "metadata": {},
   "outputs": [
    {
     "name": "stdout",
     "output_type": "stream",
     "text": [
      "[[0 0 1]\n",
      " [1 1 1]]\n"
     ]
    }
   ],
   "source": [
    "# Question 4\n",
    "# Which of the following is the correct output for the code given below?\n",
    "\n",
    "import numpy as np\n",
    "\n",
    "old = np.array([[1, 1, 1], [1, 1, 1]])\n",
    "new = old\n",
    "new[0, :2] = 0\n",
    "\n",
    "print(old)"
   ]
  },
  {
   "cell_type": "code",
   "execution_count": 17,
   "id": "205a321e",
   "metadata": {},
   "outputs": [
    {
     "name": "stdout",
     "output_type": "stream",
     "text": [
      "[[ 0  1  2  3  4  5]\n",
      " [ 6  7  8  9 10 11]\n",
      " [12 13 14 15 16 17]\n",
      " [18 19 20 21 22 23]\n",
      " [24 25 26 27 28 29]\n",
      " [30 31 32 33 34 35]]\n"
     ]
    }
   ],
   "source": [
    "# 5.\n",
    "# Question 5\n",
    "# Given the 6x6 NumPy array r shown below, which of the following options would slice the array to produce the output:\n",
    "#     array([[14, 15],\n",
    "#            [20, 21]])\n",
    "\n",
    "r = np.array([[0,1,2,3,4,5],[6,7,8,9,10,11],[12,13,14,15,16,17],[18,19,20,21,22,23],[24,25,26,27,28,29],[30,31,32,33,34,35]])\n",
    "print(r)"
   ]
  },
  {
   "cell_type": "code",
   "execution_count": 18,
   "id": "3d299b4d",
   "metadata": {},
   "outputs": [
    {
     "data": {
      "text/plain": [
       "array([[14]])"
      ]
     },
     "execution_count": 18,
     "metadata": {},
     "output_type": "execute_result"
    }
   ],
   "source": [
    "# A\n",
    "r[2:3,2:3]"
   ]
  },
  {
   "cell_type": "code",
   "execution_count": 19,
   "id": "36e71850",
   "metadata": {},
   "outputs": [
    {
     "data": {
      "text/plain": [
       "array([14, 21])"
      ]
     },
     "execution_count": 19,
     "metadata": {},
     "output_type": "execute_result"
    }
   ],
   "source": [
    "# B\n",
    "r[[2,3],[2,3]]"
   ]
  },
  {
   "cell_type": "code",
   "execution_count": 20,
   "id": "d19b0bea",
   "metadata": {},
   "outputs": [
    {
     "data": {
      "text/plain": [
       "array([14, 28])"
      ]
     },
     "execution_count": 20,
     "metadata": {},
     "output_type": "execute_result"
    }
   ],
   "source": [
    "# C\n",
    "r[[2,4],[2,4]]"
   ]
  },
  {
   "cell_type": "code",
   "execution_count": 21,
   "id": "3e93b9ae",
   "metadata": {},
   "outputs": [
    {
     "data": {
      "text/plain": [
       "array([[14, 15],\n",
       "       [20, 21]])"
      ]
     },
     "execution_count": 21,
     "metadata": {},
     "output_type": "execute_result"
    }
   ],
   "source": [
    "# D\n",
    "r[2:4,2:4]"
   ]
  },
  {
   "cell_type": "code",
   "execution_count": 22,
   "id": "8f7bd43f",
   "metadata": {},
   "outputs": [],
   "source": [
    "# Question 6\n",
    "import re \n",
    "s = 'ACBCAC'\n",
    "# For the given string, which of the following regular expressions can be used to check if the string starts with 'AC'?"
   ]
  },
  {
   "cell_type": "code",
   "execution_count": 23,
   "id": "b38dd58b",
   "metadata": {},
   "outputs": [
    {
     "data": {
      "text/plain": [
       "['AC', 'AC']"
      ]
     },
     "execution_count": 23,
     "metadata": {},
     "output_type": "execute_result"
    }
   ],
   "source": [
    "# A\n",
    "re.findall('AC', s)"
   ]
  },
  {
   "cell_type": "code",
   "execution_count": 24,
   "id": "27ed49f4",
   "metadata": {},
   "outputs": [
    {
     "data": {
      "text/plain": [
       "['A']"
      ]
     },
     "execution_count": 24,
     "metadata": {},
     "output_type": "execute_result"
    }
   ],
   "source": [
    "# B\n",
    "re.findall('^[AC]', s)"
   ]
  },
  {
   "cell_type": "code",
   "execution_count": 25,
   "id": "f65280e3",
   "metadata": {},
   "outputs": [
    {
     "data": {
      "text/plain": [
       "['BC']"
      ]
     },
     "execution_count": 25,
     "metadata": {},
     "output_type": "execute_result"
    }
   ],
   "source": [
    "# C\n",
    "re.findall('[^A]C', s)"
   ]
  },
  {
   "cell_type": "code",
   "execution_count": 26,
   "id": "520454ff",
   "metadata": {},
   "outputs": [
    {
     "data": {
      "text/plain": [
       "['AC']"
      ]
     },
     "execution_count": 26,
     "metadata": {},
     "output_type": "execute_result"
    }
   ],
   "source": [
    "# D\n",
    "re.findall('^AC', s)"
   ]
  },
  {
   "cell_type": "code",
   "execution_count": 28,
   "id": "107f9f19",
   "metadata": {},
   "outputs": [
    {
     "name": "stdout",
     "output_type": "stream",
     "text": [
      "5\n"
     ]
    }
   ],
   "source": [
    "# Question 7\n",
    "# What will be the output of the variable L after the following code is executed?\n",
    "\n",
    "import re\n",
    "s = 'ACAABAACAAAB'\n",
    "result = re.findall('A{1,2}', s)\n",
    "L = len(result)\n",
    "\n",
    "print(L) # addition to find the length of L"
   ]
  },
  {
   "cell_type": "code",
   "execution_count": 29,
   "id": "5796a793",
   "metadata": {},
   "outputs": [
    {
     "ename": "SyntaxError",
     "evalue": "EOL while scanning string literal (3099540141.py, line 5)",
     "output_type": "error",
     "traceback": [
      "\u001b[1;36m  File \u001b[1;32m\"C:\\Users\\E073016\\AppData\\Local\\Temp\\1\\ipykernel_18732\\3099540141.py\"\u001b[1;36m, line \u001b[1;32m5\u001b[0m\n\u001b[1;33m    d = 'Office of Research Administration: (734) 647-6333 | 4325 North Quad Office of Budget and Financial Administration: (734) 647-8044 | 309 Maynard, Suite 205 Health Informatics Program: (734) 763-2285 | 333 Maynard, Suite 500 Office of the Dean: (734) 647-3576 | 4322 North Quad UMSI Engagement Center: (734) 763-1251 | 777 North University Faculty Adminstrative Support Staff: (734) 764-9376 | 4322 North Quad\"\u001b[0m\n\u001b[1;37m                                                                                                                                                                                                                                                                                                                                                                                                                                 ^\u001b[0m\n\u001b[1;31mSyntaxError\u001b[0m\u001b[1;31m:\u001b[0m EOL while scanning string literal\n"
     ]
    }
   ],
   "source": [
    "# 8.\n",
    "# Question 8\n",
    "# Which of the following is the correct regular expression to extract all the phone numbers from the following chunk of text:\n",
    "\n",
    "d = 'Office of Research Administration: (734) 647-6333 | 4325 North Quad Office of Budget and Financial Administration: (734) 647-8044 | 309 Maynard, Suite 205 Health Informatics Program: (734) 763-2285 | 333 Maynard, Suite 500 Office of the Dean: (734) 647-3576 | 4322 North Quad UMSI Engagement Center: (734) 763-1251 | 777 North University Faculty Adminstrative Support Staff: (734) 764-9376 | 4322 North Quad\"\n",
    "\n",
    "[(]\\d{3}[)]\\s\\d{3}[-]\\d{4}"
   ]
  },
  {
   "cell_type": "code",
   "execution_count": 30,
   "id": "ae561a88",
   "metadata": {},
   "outputs": [
    {
     "ename": "SyntaxError",
     "evalue": "unexpected character after line continuation character (2254406212.py, line 1)",
     "output_type": "error",
     "traceback": [
      "\u001b[1;36m  File \u001b[1;32m\"C:\\Users\\E073016\\AppData\\Local\\Temp\\1\\ipykernel_18732\\2254406212.py\"\u001b[1;36m, line \u001b[1;32m1\u001b[0m\n\u001b[1;33m    \\d{3}[-]\\d{3}[-]\\d{4}\u001b[0m\n\u001b[1;37m     ^\u001b[0m\n\u001b[1;31mSyntaxError\u001b[0m\u001b[1;31m:\u001b[0m unexpected character after line continuation character\n"
     ]
    }
   ],
   "source": [
    "\n",
    "\\d{3}[-]\\d{3}[-]\\d{4}"
   ]
  },
  {
   "cell_type": "code",
   "execution_count": 31,
   "id": "d0feb399",
   "metadata": {},
   "outputs": [
    {
     "ename": "SyntaxError",
     "evalue": "invalid syntax (791638465.py, line 8)",
     "output_type": "error",
     "traceback": [
      "\u001b[1;36m  File \u001b[1;32m\"C:\\Users\\E073016\\AppData\\Local\\Temp\\1\\ipykernel_18732\\791638465.py\"\u001b[1;36m, line \u001b[1;32m8\u001b[0m\n\u001b[1;33m    pattern = (.)\u001b[0m\n\u001b[1;37m               ^\u001b[0m\n\u001b[1;31mSyntaxError\u001b[0m\u001b[1;31m:\u001b[0m invalid syntax\n"
     ]
    }
   ],
   "source": [
    "text=r'''Everyone has the following fundamental freedoms:\n",
    "    (a) freedom of conscience and religion;\n",
    "    (b) freedom of thought, belief, opinion and expression, including freedom of the press and other media of communication;\n",
    "    (c) freedom of peaceful assembly; and\n",
    "    (d) freedom of association.'''\n",
    "\n",
    "import re\n",
    "pattern = (.)\n",
    "print(len(re.findall(pattern,text)))"
   ]
  },
  {
   "cell_type": "code",
   "execution_count": 32,
   "id": "66879f89",
   "metadata": {},
   "outputs": [
    {
     "name": "stdout",
     "output_type": "stream",
     "text": [
      "40\n"
     ]
    }
   ],
   "source": [
    "text=r'''Everyone has the following fundamental freedoms:\n",
    "    (a) freedom of conscience and religion;\n",
    "    (b) freedom of thought, belief, opinion and expression, including freedom of the press and other media of communication;\n",
    "    (c) freedom of peaceful assembly; and\n",
    "    (d) freedom of association.'''\n",
    "\n",
    "import re\n",
    "pattern = '[a-d]'\n",
    "print(len(re.findall(pattern,text)))"
   ]
  },
  {
   "cell_type": "code",
   "execution_count": 33,
   "id": "f5b8f431",
   "metadata": {},
   "outputs": [
    {
     "name": "stdout",
     "output_type": "stream",
     "text": [
      "6\n"
     ]
    }
   ],
   "source": [
    "text=r'''Everyone has the following fundamental freedoms:\n",
    "    (a) freedom of conscience and religion;\n",
    "    (b) freedom of thought, belief, opinion and expression, including freedom of the press and other media of communication;\n",
    "    (c) freedom of peaceful assembly; and\n",
    "    (d) freedom of association.'''\n",
    "\n",
    "import re\n",
    "pattern = 'freedom'\n",
    "print(len(re.findall(pattern,text)))"
   ]
  },
  {
   "cell_type": "code",
   "execution_count": 34,
   "id": "be3c0ba3",
   "metadata": {},
   "outputs": [
    {
     "ename": "SyntaxError",
     "evalue": "unexpected character after line continuation character (1600054509.py, line 8)",
     "output_type": "error",
     "traceback": [
      "\u001b[1;36m  File \u001b[1;32m\"C:\\Users\\E073016\\AppData\\Local\\Temp\\1\\ipykernel_18732\\1600054509.py\"\u001b[1;36m, line \u001b[1;32m8\u001b[0m\n\u001b[1;33m    pattern = \\(.\\)\u001b[0m\n\u001b[1;37m               ^\u001b[0m\n\u001b[1;31mSyntaxError\u001b[0m\u001b[1;31m:\u001b[0m unexpected character after line continuation character\n"
     ]
    }
   ],
   "source": [
    "text=r'''Everyone has the following fundamental freedoms:\n",
    "    (a) freedom of conscience and religion;\n",
    "    (b) freedom of thought, belief, opinion and expression, including freedom of the press and other media of communication;\n",
    "    (c) freedom of peaceful assembly; and\n",
    "    (d) freedom of association.'''\n",
    "\n",
    "import re\n",
    "pattern = \\(.\\) \n",
    "print(len(re.findall(pattern,text)))"
   ]
  }
 ],
 "metadata": {
  "kernelspec": {
   "display_name": "Python 3 (ipykernel)",
   "language": "python",
   "name": "python3"
  },
  "language_info": {
   "codemirror_mode": {
    "name": "ipython",
    "version": 3
   },
   "file_extension": ".py",
   "mimetype": "text/x-python",
   "name": "python",
   "nbconvert_exporter": "python",
   "pygments_lexer": "ipython3",
   "version": "3.9.13"
  }
 },
 "nbformat": 4,
 "nbformat_minor": 5
}
