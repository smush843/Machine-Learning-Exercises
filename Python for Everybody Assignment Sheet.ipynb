{
 "cells": [
  {
   "cell_type": "code",
   "execution_count": 4,
   "id": "72bf44bd",
   "metadata": {},
   "outputs": [
    {
     "name": "stdout",
     "output_type": "stream",
     "text": [
      "5.0\n"
     ]
    }
   ],
   "source": [
    "x = 1 + 2 * 3 - 8 / 4\n",
    "print(x)"
   ]
  },
  {
   "cell_type": "code",
   "execution_count": 5,
   "id": "64d0bb72",
   "metadata": {},
   "outputs": [
    {
     "name": "stdout",
     "output_type": "stream",
     "text": [
      "98\n"
     ]
    }
   ],
   "source": [
    "x = int(98.6)\n",
    "print(x)"
   ]
  },
  {
   "cell_type": "code",
   "execution_count": 1,
   "id": "b8a8774b",
   "metadata": {},
   "outputs": [
    {
     "name": "stdout",
     "output_type": "stream",
     "text": [
      "Enter your name Jackie\n",
      "Hello Jackie\n"
     ]
    }
   ],
   "source": [
    "# 2.2 Write a program that uses input to prompt a user for their name and then welcomes them. \n",
    "# Note that input will pop up a dialog box. Enter Sarah in the pop-up box when you are prompted so your output \n",
    "# will match the desired output.\n",
    "\n",
    "# The code below almost works\n",
    "\n",
    "name = input(\"Enter your name \")\n",
    "print(\"Hello\", name)\n",
    "\n",
    "# Desired Output: Hello Sarah"
   ]
  },
  {
   "cell_type": "code",
   "execution_count": 3,
   "id": "b9c172e7",
   "metadata": {},
   "outputs": [
    {
     "name": "stdout",
     "output_type": "stream",
     "text": [
      "Enter Hours:35\n",
      "Enter Rate:30\n",
      "Pay: 1050.0\n"
     ]
    }
   ],
   "source": [
    "# 2.3 Write a program to prompt the user for hours and rate per hour using input to compute gross pay.\n",
    "# Use 35 hours and a rate of 2.75 per hour to test the program (the pay should be 96.25). \n",
    "# You should use input to read a string and float() to convert the string to a number.\n",
    "# Do not worry about error checking or bad user data.\n",
    "\n",
    "# Desired Output: Pay: 96.25\n",
    "\n",
    "# This first line is provided for you\n",
    "\n",
    "hrs = input(\"Enter Hours:\")\n",
    "rate = input(\"Enter Rate:\")\n",
    "gross_pay = float(hrs) * float(rate)\n",
    "print(\"Pay:\", gross_pay)"
   ]
  },
  {
   "cell_type": "code",
   "execution_count": 12,
   "id": "2e630284",
   "metadata": {},
   "outputs": [
    {
     "name": "stdout",
     "output_type": "stream",
     "text": [
      "Small\n",
      "All done\n"
     ]
    }
   ],
   "source": [
    "x = 0\n",
    "if x < 2 :\n",
    "    print('Small')\n",
    "elif x < 10 :\n",
    "    print('Medium')\n",
    "else :\n",
    "    print('LARGE')\n",
    "print('All done')"
   ]
  },
  {
   "cell_type": "code",
   "execution_count": 13,
   "id": "2cda38d7",
   "metadata": {},
   "outputs": [
    {
     "ename": "ValueError",
     "evalue": "invalid literal for int() with base 10: 'Hello Bob'",
     "output_type": "error",
     "traceback": [
      "\u001b[1;31m---------------------------------------------------------------------------\u001b[0m",
      "\u001b[1;31mValueError\u001b[0m                                Traceback (most recent call last)",
      "\u001b[1;32m~\\AppData\\Local\\Temp\\1\\ipykernel_34356\\3835822160.py\u001b[0m in \u001b[0;36m<module>\u001b[1;34m\u001b[0m\n\u001b[0;32m      2\u001b[0m \u001b[0mastr\u001b[0m \u001b[1;33m=\u001b[0m \u001b[1;34m'Hello Bob'\u001b[0m\u001b[1;33m\u001b[0m\u001b[1;33m\u001b[0m\u001b[0m\n\u001b[0;32m      3\u001b[0m \u001b[1;31m# (2)\u001b[0m\u001b[1;33m\u001b[0m\u001b[1;33m\u001b[0m\u001b[0m\n\u001b[1;32m----> 4\u001b[1;33m \u001b[0mistr\u001b[0m \u001b[1;33m=\u001b[0m \u001b[0mint\u001b[0m\u001b[1;33m(\u001b[0m\u001b[0mastr\u001b[0m\u001b[1;33m)\u001b[0m\u001b[1;33m\u001b[0m\u001b[1;33m\u001b[0m\u001b[0m\n\u001b[0m\u001b[0;32m      5\u001b[0m \u001b[1;31m# (3)\u001b[0m\u001b[1;33m\u001b[0m\u001b[1;33m\u001b[0m\u001b[0m\n\u001b[0;32m      6\u001b[0m \u001b[0mprint\u001b[0m\u001b[1;33m(\u001b[0m\u001b[1;34m'First'\u001b[0m\u001b[1;33m,\u001b[0m \u001b[0mistr\u001b[0m\u001b[1;33m)\u001b[0m\u001b[1;33m\u001b[0m\u001b[1;33m\u001b[0m\u001b[0m\n",
      "\u001b[1;31mValueError\u001b[0m: invalid literal for int() with base 10: 'Hello Bob'"
     ]
    }
   ],
   "source": [
    "# (1)  \n",
    "astr = 'Hello Bob'\n",
    "# (2)  \n",
    "istr = int(astr)\n",
    "# (3)  \n",
    "print('First', istr)\n",
    "# (4)  \n",
    "astr = '123'\n",
    "# (5)  \n",
    "istr = int(astr)\n",
    "# (6)   \n",
    "print('Second', istr)"
   ]
  },
  {
   "cell_type": "code",
   "execution_count": 5,
   "id": "79332443",
   "metadata": {},
   "outputs": [
    {
     "name": "stdout",
     "output_type": "stream",
     "text": [
      "-1\n"
     ]
    }
   ],
   "source": [
    "astr = 'Hello Bob'\n",
    "istr = 0\n",
    "try:\n",
    "    istr = int(astr)\n",
    "except:\n",
    "    istr = -1\n",
    "print(istr)"
   ]
  },
  {
   "cell_type": "code",
   "execution_count": 6,
   "id": "2f33ef75",
   "metadata": {},
   "outputs": [
    {
     "name": "stdout",
     "output_type": "stream",
     "text": [
      "Enter Hours:50\n",
      "Enter Rate:34\n",
      "1700.0\n"
     ]
    }
   ],
   "source": [
    "# 3.1 Write a program to prompt the user for hours and rate per hour using input to compute gross pay.\n",
    "# Pay the hourly rate for the hours up to 40 and 1.5 times the hourly rate for all hours worked above 40 hours.\n",
    "# Use 45 hours and a rate of 10.50 per hour to test the program (the pay should be 498.75). \n",
    "# You should use input to read a string and float() to convert the string to a number. \n",
    "# Do not worry about error checking the user input - assume the user types numbers properly.\n",
    "\n",
    "# Desired Output: 498.75\n",
    "\n",
    "hrs = input(\"Enter Hours:\")\n",
    "h = float(hrs)\n",
    "rate = input(\"Enter Rate:\")\n",
    "r = float(rate)\n",
    "if h <= 40:\n",
    "    r = r\n",
    "else:\n",
    "    d = h - 40\n",
    "    t = (r * 1.5) + d\n",
    "pay = h * r\n",
    "print(pay)"
   ]
  },
  {
   "cell_type": "code",
   "execution_count": 1,
   "id": "f57d24d6",
   "metadata": {},
   "outputs": [
    {
     "data": {
      "text/plain": [
       "420.0"
      ]
     },
     "execution_count": 1,
     "metadata": {},
     "output_type": "execute_result"
    }
   ],
   "source": [
    "40 * 10.5"
   ]
  },
  {
   "cell_type": "code",
   "execution_count": 2,
   "id": "eb44e4e1",
   "metadata": {},
   "outputs": [
    {
     "data": {
      "text/plain": [
       "78.75"
      ]
     },
     "execution_count": 2,
     "metadata": {},
     "output_type": "execute_result"
    }
   ],
   "source": [
    "5 * (10.5 * 1.5)"
   ]
  },
  {
   "cell_type": "code",
   "execution_count": 3,
   "id": "ea3f6343",
   "metadata": {},
   "outputs": [
    {
     "data": {
      "text/plain": [
       "498.75"
      ]
     },
     "execution_count": 3,
     "metadata": {},
     "output_type": "execute_result"
    }
   ],
   "source": [
    "420.0 + 78.75"
   ]
  },
  {
   "cell_type": "code",
   "execution_count": 14,
   "id": "b58f056a",
   "metadata": {},
   "outputs": [
    {
     "name": "stdout",
     "output_type": "stream",
     "text": [
      "Enter Hours:30\n",
      "Enter Rate:10.5\n",
      "315.0\n"
     ]
    }
   ],
   "source": [
    "hrs = input(\"Enter Hours:\")\n",
    "h = float(hrs)\n",
    "rate = input(\"Enter Rate:\")\n",
    "r = float(rate)\n",
    "if h > 40:\n",
    "    x = h - 40\n",
    "    gross_pay = 40 * r\n",
    "    over_time = x * (r * 1.5)\n",
    "    print(gross_pay + over_time)\n",
    "else:\n",
    "    gross_pay = h * r\n",
    "    print(gross_pay)"
   ]
  },
  {
   "cell_type": "code",
   "execution_count": 2,
   "id": "aa126c0e",
   "metadata": {},
   "outputs": [
    {
     "name": "stdout",
     "output_type": "stream",
     "text": [
      "Enter Score: -1\n",
      "Error, grade out of range.\n",
      "F\n"
     ]
    }
   ],
   "source": [
    "# 3.3 Write a program to prompt for a score between 0.0 and 1.0. If the score is out of range, print an error.\n",
    "# If the score is between 0.0 and 1.0, print a grade using the following table:\n",
    "# Score Grade\n",
    "# >= 0.9 A\n",
    "# >= 0.8 B\n",
    "# >= 0.7 C\n",
    "# >= 0.6 D\n",
    "# < 0.6 F\n",
    "# If the user enters a value out of range, print a suitable error message and exit. For the test, enter a score of 0.85.\n",
    "\n",
    "# Desired Output B\n",
    "\n",
    "score = input(\"Enter Score: \")\n",
    "\n",
    "grade = float(score)\n",
    "\n",
    "if grade < 0:\n",
    "    print(\"Error, grade out of range.\")\n",
    "    quit()\n",
    "if grade > 1:\n",
    "    print(\"Error, grade out of range.\")\n",
    "    quit()\n",
    "\n",
    "try: \n",
    "    if grade >= 0.9 and grade <= 1:\n",
    "        print(\"A\")\n",
    "    elif grade >= 0.8 and grade < 0.9:\n",
    "        print(\"B\")\n",
    "    elif grade >= 0.7 and grade < 0.8:\n",
    "        print(\"C\")\n",
    "    elif grade >= 0.6 and grade < 0.7:\n",
    "        print(\"D\")\n",
    "    elif grade < 0.6:\n",
    "        print(\"F\")\n",
    "    else:\n",
    "        print(\"Error, try again.\")\n",
    "except:\n",
    "    print(\"Error, try again.\")"
   ]
  },
  {
   "cell_type": "code",
   "execution_count": 4,
   "id": "29d35353",
   "metadata": {},
   "outputs": [
    {
     "name": "stdout",
     "output_type": "stream",
     "text": [
      "There\n"
     ]
    }
   ],
   "source": [
    "def thing():\n",
    "    print('Hello')\n",
    "\n",
    "print('There')"
   ]
  },
  {
   "cell_type": "code",
   "execution_count": 5,
   "id": "251d9202",
   "metadata": {},
   "outputs": [
    {
     "name": "stdout",
     "output_type": "stream",
     "text": [
      "10\n",
      "20\n"
     ]
    }
   ],
   "source": [
    "def func(x) :\n",
    "    print(x)\n",
    "\n",
    "func(10)\n",
    "func(20)"
   ]
  },
  {
   "cell_type": "code",
   "execution_count": 6,
   "id": "9091b90f",
   "metadata": {},
   "outputs": [
    {
     "name": "stdout",
     "output_type": "stream",
     "text": [
      "Hello\n"
     ]
    }
   ],
   "source": [
    "def stuff():\n",
    "    print('Hello')\n",
    "    return\n",
    "    print('World')\n",
    "\n",
    "stuff()"
   ]
  },
  {
   "cell_type": "code",
   "execution_count": 7,
   "id": "6cc5a4b9",
   "metadata": {},
   "outputs": [
    {
     "name": "stdout",
     "output_type": "stream",
     "text": [
      "Bonjour Michael\n"
     ]
    }
   ],
   "source": [
    "def greet(lang):\n",
    "    if lang == 'es':\n",
    "        return 'Hola'\n",
    "    elif lang == 'fr':\n",
    "        return 'Bonjour'\n",
    "    else:\n",
    "        return 'Hello'\n",
    "\n",
    "print(greet('fr'),'Michael')"
   ]
  },
  {
   "cell_type": "code",
   "execution_count": 8,
   "id": "eee268fd",
   "metadata": {},
   "outputs": [
    {
     "name": "stdout",
     "output_type": "stream",
     "text": [
      "2\n"
     ]
    }
   ],
   "source": [
    "def addtwo(a, b):\n",
    "    added = a + b\n",
    "    return a\n",
    "\n",
    "x = addtwo(2, 7)\n",
    "print(x)"
   ]
  },
  {
   "cell_type": "code",
   "execution_count": 10,
   "id": "3398fa3e",
   "metadata": {},
   "outputs": [
    {
     "name": "stdout",
     "output_type": "stream",
     "text": [
      "Enter Hours:60\n",
      "Enter Rate:18.86\n",
      "Pay 1320.1999999999998\n"
     ]
    }
   ],
   "source": [
    "# 4.6 Write a program to prompt the user for hours and rate per hour using input to compute gross pay. \n",
    "# Pay should be the normal rate for hours up to 40 and time-and-a-half for the hourly rate for all hours worked above 40 hours. \n",
    "# Put the logic to do the computation of pay in a function called computepay() and use the function to do the computation.\n",
    "# The function should return a value. Use 45 hours and a rate of 10.50 per hour to test the program (the pay should be 498.75).\n",
    "# You should use input to read a string and float() to convert the string to a number.\n",
    "# Do not worry about error checking the user input unless you want to - you can assume the user types numbers properly. \n",
    "# Do not name your variable sum or use the sum() function.\n",
    "\n",
    "# Desired output: Pay 498.75\n",
    "\n",
    "def computepay():\n",
    "    hrs = input(\"Enter Hours:\")\n",
    "    h = float(hrs)\n",
    "    rate = input(\"Enter Rate:\")\n",
    "    r = float(rate)\n",
    "    if h > 40:\n",
    "        x = h - 40\n",
    "        gross_pay = 40 * r\n",
    "        over_time = x * (r * 1.5)\n",
    "    return print(\"Pay\", (gross_pay + over_time))\n",
    "\n",
    "computepay()\n",
    "\n"
   ]
  },
  {
   "cell_type": "code",
   "execution_count": 11,
   "id": "37636021",
   "metadata": {},
   "outputs": [
    {
     "name": "stdout",
     "output_type": "stream",
     "text": [
      "5\n"
     ]
    }
   ],
   "source": [
    "tot = 0 \n",
    "for i in [5, 4, 3, 2, 1] :\n",
    "    tot = tot + 1\n",
    "print(tot)"
   ]
  },
  {
   "cell_type": "code",
   "execution_count": 12,
   "id": "b68671df",
   "metadata": {},
   "outputs": [
    {
     "name": "stdout",
     "output_type": "stream",
     "text": [
      "After 154\n"
     ]
    }
   ],
   "source": [
    "zork = 0\n",
    "for thing in [9, 41, 12, 3, 74, 15] :\n",
    "    zork = zork + thing\n",
    "print('After', zork)"
   ]
  },
  {
   "cell_type": "code",
   "execution_count": 13,
   "id": "85e89981",
   "metadata": {},
   "outputs": [
    {
     "data": {
      "text/plain": [
       "154"
      ]
     },
     "execution_count": 13,
     "metadata": {},
     "output_type": "execute_result"
    }
   ],
   "source": [
    "sum([9, 41, 12, 3, 74, 15])"
   ]
  },
  {
   "cell_type": "code",
   "execution_count": 14,
   "id": "bb23067f",
   "metadata": {},
   "outputs": [
    {
     "name": "stdout",
     "output_type": "stream",
     "text": [
      "-1\n"
     ]
    }
   ],
   "source": [
    "smallest_so_far = -1\n",
    "for the_num in [9, 41, 12, 3, 74, 15] :\n",
    "   if the_num < smallest_so_far :\n",
    "      smallest_so_far = the_num\n",
    "print(smallest_so_far)"
   ]
  },
  {
   "cell_type": "code",
   "execution_count": 3,
   "id": "04d8d09d",
   "metadata": {},
   "outputs": [
    {
     "name": "stdout",
     "output_type": "stream",
     "text": [
      "Enter a number: 23\n",
      "Enter a number: 34\n",
      "Enter a number: 45\n",
      "Enter a number: 56\n",
      "Enter a number: 67\n",
      "Enter a number: 78\n",
      "Enter a number: 89\n",
      "Enter a number: 100\n",
      "Enter a number: 843\n",
      "Enter a number: 802\n",
      "Enter a number: done\n",
      "Maximum is 843\n",
      "Minimum is 23\n"
     ]
    }
   ],
   "source": [
    "# 5.2 Write a program that repeatedly prompts a user for integer numbers until the user enters 'done'. \n",
    "# Once 'done' is entered, print out the largest and smallest of the numbers.\n",
    "# If the user enters anything other than a valid number catch it with a try/except and put out an appropriate message and ignore\n",
    "# the number. Enter 7, 2, bob, 10, and 4 and match the output below.\n",
    "\n",
    "# Invalid input\n",
    "# Maximum is 10\n",
    "# Minimum is 2\n",
    "\n",
    "# largest = None\n",
    "# smallest = None\n",
    "# while True:\n",
    "#     num = input(\"Enter a number: \")\n",
    "#     if num == 'done':\n",
    "#         break\n",
    "#     largest = num\n",
    "#     smallest = num\n",
    "#     if num > largest:\n",
    "#         largest = num\n",
    "#     if num < smallest:\n",
    "#         smallest = num\n",
    "#     try:\n",
    "#         fval = float(num)\n",
    "#     except:\n",
    "#         print('Invalid input')\n",
    "#         continue\n",
    "\n",
    "# print(\"Maximum is\", largest)\n",
    "# print(\"Minimum is\", smallest)\n",
    "\n",
    "largest = None\n",
    "smallest = None\n",
    "myList = []\n",
    "while True:\n",
    "    num = input(\"Enter a number: \")\n",
    "    if num == \"done\":\n",
    "        break\n",
    "    try:\n",
    "        inVal = int(num)\n",
    "        myList.append(inVal)\n",
    "    except:\n",
    "        print('Invalid input')\n",
    "        continue\n",
    "    try:\n",
    "        largest = max(myList)\n",
    "        smallest = min(myList)\n",
    "#         print(myList)\n",
    "    except:\n",
    "        continue\n",
    "\n",
    "# print(myList)\n",
    "print(\"Maximum is\", largest)\n",
    "print(\"Minimum is\", smallest)\n",
    "        \n",
    "        \n",
    "    \n",
    "        \n",
    "        \n",
    "        \n",
    "#     largest = num\n",
    "#     smallest = num\n",
    "    \n",
    "#     if num > largest:\n",
    "#         largest = num\n",
    "#     print(largest)\n",
    "    \n",
    "#     if num < smallest:\n",
    "#         smallest = num\n",
    "#     print(smallest)\n",
    "    \n",
    "# #     if num > largest:\n",
    "# #         largest = num\n",
    "# #         print(largest)\n",
    "# #     if num == \"done\":\n",
    "# #         break\n",
    "# #     print(num)\n",
    "    \n",
    "# #     try:\n",
    "# #         fval = float(num)\n",
    "# #     except:\n",
    "# #         print('Invalid input')\n",
    "# #         continue\n",
    "\n",
    "# # print(\"Maximum\", largest)"
   ]
  },
  {
   "cell_type": "code",
   "execution_count": null,
   "id": "7b88fb7a",
   "metadata": {},
   "outputs": [],
   "source": []
  }
 ],
 "metadata": {
  "kernelspec": {
   "display_name": "Python 3 (ipykernel)",
   "language": "python",
   "name": "python3"
  },
  "language_info": {
   "codemirror_mode": {
    "name": "ipython",
    "version": 3
   },
   "file_extension": ".py",
   "mimetype": "text/x-python",
   "name": "python",
   "nbconvert_exporter": "python",
   "pygments_lexer": "ipython3",
   "version": "3.9.13"
  }
 },
 "nbformat": 4,
 "nbformat_minor": 5
}
