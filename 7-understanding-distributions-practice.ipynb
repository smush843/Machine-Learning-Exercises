{
 "cells": [
  {
   "cell_type": "markdown",
   "metadata": {},
   "source": [
    "# Practice Assignment: Understanding Distributions Through Sampling\n",
    "\n",
    "** *This assignment is optional, and I encourage you to share your solutions with me and your peers in the discussion forums!* **\n",
    "\n",
    "\n",
    "To complete this assignment, create a code cell that:\n",
    "* Creates a number of subplots using the `pyplot subplots` or `matplotlib gridspec` functionality.\n",
    "* Creates an animation, pulling between 100 and 1000 samples from each of the random variables (`x1`, `x2`, `x3`, `x4`) for each plot and plotting this as we did in the lecture on animation.\n",
    "* **Bonus:** Go above and beyond and \"wow\" your classmates (and me!) by looking into matplotlib widgets and adding a widget which allows for parameterization of the distributions behind the sampling animations.\n",
    "\n",
    "\n",
    "Tips:\n",
    "* Before you start, think about the different ways you can create this visualization to be as interesting and effective as possible.\n",
    "* Take a look at the histograms below to get an idea of what the random variables look like, as well as their positioning with respect to one another. This is just a guide, so be creative in how you lay things out!\n",
    "* Try to keep the length of your animation reasonable (roughly between 10 and 30 seconds)."
   ]
  },
  {
   "cell_type": "code",
   "execution_count": 4,
   "metadata": {
    "collapsed": false,
    "jupyter": {
     "outputs_hidden": false
    }
   },
   "outputs": [
    {
     "data": {
      "application/vnd.jupyter.widget-view+json": {
       "model_id": "2a09d4a7f9d94ca09925e5d929488ff9",
       "version_major": 2,
       "version_minor": 0
      },
      "text/html": [
       "\n",
       "            <div style=\"display: inline-block;\">\n",
       "                <div class=\"jupyter-widgets widget-label\" style=\"text-align: center;\">\n",
       "                    Figure\n",
       "                </div>\n",
       "                <img src='data:image/png;base64,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' width=900.0/>\n",
       "            </div>\n",
       "        "
      ],
      "text/plain": [
       "Canvas(toolbar=Toolbar(toolitems=[('Home', 'Reset original view', 'home', 'home'), ('Back', 'Back to previous …"
      ]
     },
     "metadata": {},
     "output_type": "display_data"
    }
   ],
   "source": [
    "%matplotlib widget\n",
    "import matplotlib.pyplot as plt\n",
    "import numpy as np\n",
    "\n",
    "# generate 4 random variables from the random, gamma, exponential, and uniform distributions\n",
    "x1 = np.random.normal(-2.5, 1, 10000)\n",
    "x2 = np.random.gamma(2, 1.5, 10000)\n",
    "x3 = np.random.exponential(2, 10000)+7\n",
    "x4 = np.random.uniform(14,20, 10000)\n",
    "\n",
    "# plot the histograms\n",
    "plt.figure(figsize=(9,3))\n",
    "plt.hist(x1, density=True, bins=20, alpha=0.5)\n",
    "plt.hist(x2, density=True, bins=20, alpha=0.5)\n",
    "plt.hist(x3, density=True, bins=20, alpha=0.5)\n",
    "plt.hist(x4, density=True, bins=20, alpha=0.5);\n",
    "plt.axis([-7,21,0,0.6])\n",
    "\n",
    "plt.text(x1.mean()-1.5, 0.5, 'x1\\nNormal')\n",
    "plt.text(x2.mean()-1.5, 0.5, 'x2\\nGamma')\n",
    "plt.text(x3.mean()-1.5, 0.5, 'x3\\nExponential')\n",
    "plt.text(x4.mean()-1.5, 0.5, 'x4\\nUniform');"
   ]
  }
 ],
 "metadata": {
  "kernelspec": {
   "display_name": "Python 3 (ipykernel)",
   "language": "python",
   "name": "python3"
  },
  "language_info": {
   "codemirror_mode": {
    "name": "ipython",
    "version": 3
   },
   "file_extension": ".py",
   "mimetype": "text/x-python",
   "name": "python",
   "nbconvert_exporter": "python",
   "pygments_lexer": "ipython3",
   "version": "3.8.10"
  }
 },
 "nbformat": 4,
 "nbformat_minor": 4
}
