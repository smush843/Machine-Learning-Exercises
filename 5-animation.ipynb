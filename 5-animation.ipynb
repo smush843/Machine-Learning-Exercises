{
 "cells": [
  {
   "cell_type": "markdown",
   "metadata": {
    "tags": []
   },
   "source": [
    "# Animation"
   ]
  },
  {
   "cell_type": "markdown",
   "metadata": {},
   "source": [
    "So far we focused on static images, but matplotlib does have some support for animation. This requires a separate library to use in the Jupyter notebook called `ipympl`, and I've installed that for you here. Animation depends on this library because it provides a new backend for us, call the `widget` backend. Let's turn that on here."
   ]
  },
  {
   "cell_type": "code",
   "execution_count": 3,
   "metadata": {},
   "outputs": [
    {
     "name": "stdout",
     "output_type": "stream",
     "text": [
      "Collecting ipympl\n",
      "  Downloading ipympl-0.9.3-py2.py3-none-any.whl (511 kB)\n",
      "     -------------------------------------- 511.6/511.6 kB 3.6 MB/s eta 0:00:00\n",
      "Requirement already satisfied: ipython-genutils in c:\\users\\e073016\\anaconda3\\lib\\site-packages (from ipympl) (0.2.0)\n",
      "Requirement already satisfied: numpy in c:\\users\\e073016\\anaconda3\\lib\\site-packages (from ipympl) (1.21.5)\n",
      "Requirement already satisfied: pillow in c:\\users\\e073016\\anaconda3\\lib\\site-packages (from ipympl) (9.2.0)\n",
      "Requirement already satisfied: ipywidgets<9,>=7.6.0 in c:\\users\\e073016\\anaconda3\\lib\\site-packages (from ipympl) (7.6.5)\n",
      "Requirement already satisfied: ipython<9 in c:\\users\\e073016\\anaconda3\\lib\\site-packages (from ipympl) (7.31.1)\n",
      "Requirement already satisfied: matplotlib<4,>=3.4.0 in c:\\users\\e073016\\anaconda3\\lib\\site-packages (from ipympl) (3.5.2)\n",
      "Requirement already satisfied: traitlets<6 in c:\\users\\e073016\\anaconda3\\lib\\site-packages (from ipympl) (5.1.1)\n",
      "Requirement already satisfied: matplotlib-inline in c:\\users\\e073016\\anaconda3\\lib\\site-packages (from ipython<9->ipympl) (0.1.6)\n",
      "Requirement already satisfied: pygments in c:\\users\\e073016\\anaconda3\\lib\\site-packages (from ipython<9->ipympl) (2.11.2)\n",
      "Requirement already satisfied: colorama in c:\\users\\e073016\\anaconda3\\lib\\site-packages (from ipython<9->ipympl) (0.4.6)\n",
      "Requirement already satisfied: jedi>=0.16 in c:\\users\\e073016\\anaconda3\\lib\\site-packages (from ipython<9->ipympl) (0.18.1)\n",
      "Requirement already satisfied: prompt-toolkit!=3.0.0,!=3.0.1,<3.1.0,>=2.0.0 in c:\\users\\e073016\\anaconda3\\lib\\site-packages (from ipython<9->ipympl) (3.0.20)\n",
      "Requirement already satisfied: backcall in c:\\users\\e073016\\anaconda3\\lib\\site-packages (from ipython<9->ipympl) (0.2.0)\n",
      "Requirement already satisfied: pickleshare in c:\\users\\e073016\\anaconda3\\lib\\site-packages (from ipython<9->ipympl) (0.7.5)\n",
      "Requirement already satisfied: setuptools>=18.5 in c:\\users\\e073016\\anaconda3\\lib\\site-packages (from ipython<9->ipympl) (63.4.1)\n",
      "Requirement already satisfied: decorator in c:\\users\\e073016\\anaconda3\\lib\\site-packages (from ipython<9->ipympl) (5.1.1)\n",
      "Requirement already satisfied: ipykernel>=4.5.1 in c:\\users\\e073016\\anaconda3\\lib\\site-packages (from ipywidgets<9,>=7.6.0->ipympl) (6.15.2)\n",
      "Requirement already satisfied: jupyterlab-widgets>=1.0.0 in c:\\users\\e073016\\anaconda3\\lib\\site-packages (from ipywidgets<9,>=7.6.0->ipympl) (1.0.0)\n",
      "Requirement already satisfied: widgetsnbextension~=3.5.0 in c:\\users\\e073016\\anaconda3\\lib\\site-packages (from ipywidgets<9,>=7.6.0->ipympl) (3.5.2)\n",
      "Requirement already satisfied: nbformat>=4.2.0 in c:\\users\\e073016\\anaconda3\\lib\\site-packages (from ipywidgets<9,>=7.6.0->ipympl) (5.5.0)\n",
      "Requirement already satisfied: kiwisolver>=1.0.1 in c:\\users\\e073016\\anaconda3\\lib\\site-packages (from matplotlib<4,>=3.4.0->ipympl) (1.4.2)\n",
      "Requirement already satisfied: cycler>=0.10 in c:\\users\\e073016\\anaconda3\\lib\\site-packages (from matplotlib<4,>=3.4.0->ipympl) (0.11.0)\n",
      "Requirement already satisfied: packaging>=20.0 in c:\\users\\e073016\\anaconda3\\lib\\site-packages (from matplotlib<4,>=3.4.0->ipympl) (21.3)\n",
      "Requirement already satisfied: fonttools>=4.22.0 in c:\\users\\e073016\\anaconda3\\lib\\site-packages (from matplotlib<4,>=3.4.0->ipympl) (4.25.0)\n",
      "Requirement already satisfied: python-dateutil>=2.7 in c:\\users\\e073016\\anaconda3\\lib\\site-packages (from matplotlib<4,>=3.4.0->ipympl) (2.8.2)\n",
      "Requirement already satisfied: pyparsing>=2.2.1 in c:\\users\\e073016\\anaconda3\\lib\\site-packages (from matplotlib<4,>=3.4.0->ipympl) (3.0.9)\n",
      "Requirement already satisfied: tornado>=6.1 in c:\\users\\e073016\\anaconda3\\lib\\site-packages (from ipykernel>=4.5.1->ipywidgets<9,>=7.6.0->ipympl) (6.1)\n",
      "Requirement already satisfied: nest-asyncio in c:\\users\\e073016\\anaconda3\\lib\\site-packages (from ipykernel>=4.5.1->ipywidgets<9,>=7.6.0->ipympl) (1.5.5)\n",
      "Requirement already satisfied: debugpy>=1.0 in c:\\users\\e073016\\anaconda3\\lib\\site-packages (from ipykernel>=4.5.1->ipywidgets<9,>=7.6.0->ipympl) (1.5.1)\n",
      "Requirement already satisfied: pyzmq>=17 in c:\\users\\e073016\\anaconda3\\lib\\site-packages (from ipykernel>=4.5.1->ipywidgets<9,>=7.6.0->ipympl) (23.2.0)\n",
      "Requirement already satisfied: psutil in c:\\users\\e073016\\anaconda3\\lib\\site-packages (from ipykernel>=4.5.1->ipywidgets<9,>=7.6.0->ipympl) (5.9.0)\n",
      "Requirement already satisfied: jupyter-client>=6.1.12 in c:\\users\\e073016\\anaconda3\\lib\\site-packages (from ipykernel>=4.5.1->ipywidgets<9,>=7.6.0->ipympl) (7.3.4)\n",
      "Requirement already satisfied: parso<0.9.0,>=0.8.0 in c:\\users\\e073016\\anaconda3\\lib\\site-packages (from jedi>=0.16->ipython<9->ipympl) (0.8.3)\n",
      "Requirement already satisfied: fastjsonschema in c:\\users\\e073016\\anaconda3\\lib\\site-packages (from nbformat>=4.2.0->ipywidgets<9,>=7.6.0->ipympl) (2.16.2)\n",
      "Requirement already satisfied: jupyter_core in c:\\users\\e073016\\anaconda3\\lib\\site-packages (from nbformat>=4.2.0->ipywidgets<9,>=7.6.0->ipympl) (4.11.1)\n",
      "Requirement already satisfied: jsonschema>=2.6 in c:\\users\\e073016\\anaconda3\\lib\\site-packages (from nbformat>=4.2.0->ipywidgets<9,>=7.6.0->ipympl) (4.16.0)\n",
      "Requirement already satisfied: wcwidth in c:\\users\\e073016\\anaconda3\\lib\\site-packages (from prompt-toolkit!=3.0.0,!=3.0.1,<3.1.0,>=2.0.0->ipython<9->ipympl) (0.2.5)\n",
      "Requirement already satisfied: six>=1.5 in c:\\users\\e073016\\anaconda3\\lib\\site-packages (from python-dateutil>=2.7->matplotlib<4,>=3.4.0->ipympl) (1.16.0)\n",
      "Requirement already satisfied: notebook>=4.4.1 in c:\\users\\e073016\\anaconda3\\lib\\site-packages (from widgetsnbextension~=3.5.0->ipywidgets<9,>=7.6.0->ipympl) (6.4.12)\n",
      "Requirement already satisfied: attrs>=17.4.0 in c:\\users\\e073016\\anaconda3\\lib\\site-packages (from jsonschema>=2.6->nbformat>=4.2.0->ipywidgets<9,>=7.6.0->ipympl) (21.4.0)\n",
      "Requirement already satisfied: pyrsistent!=0.17.0,!=0.17.1,!=0.17.2,>=0.14.0 in c:\\users\\e073016\\anaconda3\\lib\\site-packages (from jsonschema>=2.6->nbformat>=4.2.0->ipywidgets<9,>=7.6.0->ipympl) (0.18.0)\n",
      "Requirement already satisfied: entrypoints in c:\\users\\e073016\\anaconda3\\lib\\site-packages (from jupyter-client>=6.1.12->ipykernel>=4.5.1->ipywidgets<9,>=7.6.0->ipympl) (0.4)\n",
      "Requirement already satisfied: pywin32>=1.0 in c:\\users\\e073016\\anaconda3\\lib\\site-packages (from jupyter_core->nbformat>=4.2.0->ipywidgets<9,>=7.6.0->ipympl) (302)\n",
      "Requirement already satisfied: nbconvert>=5 in c:\\users\\e073016\\anaconda3\\lib\\site-packages (from notebook>=4.4.1->widgetsnbextension~=3.5.0->ipywidgets<9,>=7.6.0->ipympl) (6.4.4)\n",
      "Requirement already satisfied: Send2Trash>=1.8.0 in c:\\users\\e073016\\anaconda3\\lib\\site-packages (from notebook>=4.4.1->widgetsnbextension~=3.5.0->ipywidgets<9,>=7.6.0->ipympl) (1.8.0)\n",
      "Requirement already satisfied: argon2-cffi in c:\\users\\e073016\\anaconda3\\lib\\site-packages (from notebook>=4.4.1->widgetsnbextension~=3.5.0->ipywidgets<9,>=7.6.0->ipympl) (21.3.0)\n",
      "Requirement already satisfied: terminado>=0.8.3 in c:\\users\\e073016\\anaconda3\\lib\\site-packages (from notebook>=4.4.1->widgetsnbextension~=3.5.0->ipywidgets<9,>=7.6.0->ipympl) (0.13.1)\n",
      "Requirement already satisfied: prometheus-client in c:\\users\\e073016\\anaconda3\\lib\\site-packages (from notebook>=4.4.1->widgetsnbextension~=3.5.0->ipywidgets<9,>=7.6.0->ipympl) (0.14.1)\n",
      "Requirement already satisfied: jinja2 in c:\\users\\e073016\\anaconda3\\lib\\site-packages (from notebook>=4.4.1->widgetsnbextension~=3.5.0->ipywidgets<9,>=7.6.0->ipympl) (2.11.3)\n",
      "Requirement already satisfied: testpath in c:\\users\\e073016\\anaconda3\\lib\\site-packages (from nbconvert>=5->notebook>=4.4.1->widgetsnbextension~=3.5.0->ipywidgets<9,>=7.6.0->ipympl) (0.6.0)\n",
      "Requirement already satisfied: beautifulsoup4 in c:\\users\\e073016\\anaconda3\\lib\\site-packages (from nbconvert>=5->notebook>=4.4.1->widgetsnbextension~=3.5.0->ipywidgets<9,>=7.6.0->ipympl) (4.11.1)\n",
      "Requirement already satisfied: mistune<2,>=0.8.1 in c:\\users\\e073016\\anaconda3\\lib\\site-packages (from nbconvert>=5->notebook>=4.4.1->widgetsnbextension~=3.5.0->ipywidgets<9,>=7.6.0->ipympl) (0.8.4)\n",
      "Requirement already satisfied: pandocfilters>=1.4.1 in c:\\users\\e073016\\anaconda3\\lib\\site-packages (from nbconvert>=5->notebook>=4.4.1->widgetsnbextension~=3.5.0->ipywidgets<9,>=7.6.0->ipympl) (1.5.0)\n",
      "Requirement already satisfied: defusedxml in c:\\users\\e073016\\anaconda3\\lib\\site-packages (from nbconvert>=5->notebook>=4.4.1->widgetsnbextension~=3.5.0->ipywidgets<9,>=7.6.0->ipympl) (0.7.1)\n",
      "Requirement already satisfied: nbclient<0.6.0,>=0.5.0 in c:\\users\\e073016\\anaconda3\\lib\\site-packages (from nbconvert>=5->notebook>=4.4.1->widgetsnbextension~=3.5.0->ipywidgets<9,>=7.6.0->ipympl) (0.5.13)\n",
      "Requirement already satisfied: bleach in c:\\users\\e073016\\anaconda3\\lib\\site-packages (from nbconvert>=5->notebook>=4.4.1->widgetsnbextension~=3.5.0->ipywidgets<9,>=7.6.0->ipympl) (4.1.0)\n",
      "Requirement already satisfied: jupyterlab-pygments in c:\\users\\e073016\\anaconda3\\lib\\site-packages (from nbconvert>=5->notebook>=4.4.1->widgetsnbextension~=3.5.0->ipywidgets<9,>=7.6.0->ipympl) (0.1.2)\n",
      "Requirement already satisfied: MarkupSafe>=0.23 in c:\\users\\e073016\\anaconda3\\lib\\site-packages (from jinja2->notebook>=4.4.1->widgetsnbextension~=3.5.0->ipywidgets<9,>=7.6.0->ipympl) (2.0.1)\n",
      "Requirement already satisfied: pywinpty>=1.1.0 in c:\\users\\e073016\\anaconda3\\lib\\site-packages (from terminado>=0.8.3->notebook>=4.4.1->widgetsnbextension~=3.5.0->ipywidgets<9,>=7.6.0->ipympl) (2.0.2)\n",
      "Requirement already satisfied: argon2-cffi-bindings in c:\\users\\e073016\\anaconda3\\lib\\site-packages (from argon2-cffi->notebook>=4.4.1->widgetsnbextension~=3.5.0->ipywidgets<9,>=7.6.0->ipympl) (21.2.0)\n",
      "Requirement already satisfied: cffi>=1.0.1 in c:\\users\\e073016\\anaconda3\\lib\\site-packages (from argon2-cffi-bindings->argon2-cffi->notebook>=4.4.1->widgetsnbextension~=3.5.0->ipywidgets<9,>=7.6.0->ipympl) (1.15.1)\n",
      "Requirement already satisfied: soupsieve>1.2 in c:\\users\\e073016\\anaconda3\\lib\\site-packages (from beautifulsoup4->nbconvert>=5->notebook>=4.4.1->widgetsnbextension~=3.5.0->ipywidgets<9,>=7.6.0->ipympl) (2.3.1)\n",
      "Requirement already satisfied: webencodings in c:\\users\\e073016\\anaconda3\\lib\\site-packages (from bleach->nbconvert>=5->notebook>=4.4.1->widgetsnbextension~=3.5.0->ipywidgets<9,>=7.6.0->ipympl) (0.5.1)\n",
      "Requirement already satisfied: pycparser in c:\\users\\e073016\\anaconda3\\lib\\site-packages (from cffi>=1.0.1->argon2-cffi-bindings->argon2-cffi->notebook>=4.4.1->widgetsnbextension~=3.5.0->ipywidgets<9,>=7.6.0->ipympl) (2.21)\n",
      "Installing collected packages: ipympl\n",
      "Successfully installed ipympl-0.9.3\n",
      "Note: you may need to restart the kernel to use updated packages.\n"
     ]
    }
   ],
   "source": [
    "pip install ipympl"
   ]
  },
  {
   "cell_type": "code",
   "execution_count": 1,
   "metadata": {},
   "outputs": [],
   "source": [
    "%matplotlib widget\n",
    "\n",
    "# We can bring in some other libraries we will need too, including the \n",
    "# matplotlib animation module\n",
    "import matplotlib.pyplot as plt\n",
    "import matplotlib.animation as animation\n",
    "import numpy as np"
   ]
  },
  {
   "cell_type": "markdown",
   "metadata": {},
   "source": [
    "The Maplotlib.animation module contains important helpers for building animations, and for our discussion today the important object we are going to use is called `FuncAnimation`. This builds an animation by iteratively calling a function which you define. This function's job is to clear the axis object and redraw the next frame of the animation. Then these frames are all stacked together into a playable video.\n",
    "\n",
    "I like to use this demonstration in my classes here at Michigan to show students how distributions can be sampled from. So we're going to build a basic animation which is going to pull 100 samples out of the normal distribution. Let's generate that data now."
   ]
  },
  {
   "cell_type": "code",
   "execution_count": 2,
   "metadata": {},
   "outputs": [],
   "source": [
    "n = 100\n",
    "x = np.random.randn(n)"
   ]
  },
  {
   "cell_type": "markdown",
   "metadata": {},
   "source": [
    "Okay, next we want to actually create a function which will do the plotting. We'll call this function `update`. Now the matplotlib FuncAnimation object is going to call this every few milliseconds and pass in the frame number we are on starting with frame zero. So we can use this is as the index into our array values, which we called `x`.\n",
    "\n",
    "The very first thing we want to do is see if the current frame is at the end of our list. If so, we need to tell the animation to stop. We do this by calling the stop object on the event source object attached to the FuncAnimation object."
   ]
  },
  {
   "cell_type": "code",
   "execution_count": 3,
   "metadata": {},
   "outputs": [],
   "source": [
    "# create the function that will do the plotting, where curr is the current frame\n",
    "def update(curr):\n",
    "    # check if animation is at the last frame, and if so, stop the animation a\n",
    "    if curr == n: \n",
    "        a.event_source.stop()\n",
    "    \n",
    "    # What is a? Well, it's an object that we'll define in a bit, and it will\n",
    "    # sit outside of this function but we can still access it since python allows\n",
    "    # us to access variables in the global scope.\n",
    "    \n",
    "    # Now on to the work. First thing we want to do is clear the current axes.\n",
    "    # We can do this with plt.cla().\n",
    "    plt.cla()\n",
    "    \n",
    "    # Now I jut want to plot a histogram. I'm going to set my bins to a predictable\n",
    "    # value so it doesn't jump around, but you can play with this\n",
    "    bins = np.arange(-4, 4, 0.5)\n",
    "    \n",
    "    # Then we just make the hist() using the current frame number which was passed\n",
    "    # into the function and our global values array\n",
    "    plt.hist(x[:curr], bins=bins)\n",
    "    \n",
    "    # Set the axes limits\n",
    "    plt.axis([-4,4,0,30])\n",
    "    \n",
    "    # And add some nice labels throughout\n",
    "    plt.gca().set_title('Sampling the Normal Distribution')\n",
    "    plt.gca().set_ylabel('Frequency')\n",
    "    plt.gca().set_xlabel('Value')\n",
    "    plt.annotate('n = {}'.format(curr), [3,27])"
   ]
  },
  {
   "cell_type": "markdown",
   "metadata": {},
   "source": [
    "Now most of our hard work is done so we just have to view it. To do this, we just generate a new figure, then call the FuncAnimation constructor and we'll assign this to variable a, since we need this for our `update()` function which will stop the animation at the end. The first parameter is the figure that we're working with. This isn't so important here, since we're using the pylot scripting interface to manage the figure. Then the name of our function and then the amount of time we want between updates. Let's set this to 100 milliseconds."
   ]
  },
  {
   "cell_type": "code",
   "execution_count": 4,
   "metadata": {},
   "outputs": [
    {
     "data": {
      "application/vnd.jupyter.widget-view+json": {
       "model_id": "fc9504271d9c439d9d2b1f3d41fff225",
       "version_major": 2,
       "version_minor": 0
      },
      "image/png": "[encoded data removed]",
      "text/html": [
       "\n",
       "            <div style=\"display: inline-block;\">\n",
       "                <div class=\"jupyter-widgets widget-label\" style=\"text-align: center;\">\n",
       "                    Figure\n",
       "                </div>\n",
       "                <img src='data:image/png;base64,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' width=640.0/>\n",
       "            </div>\n",
       "        "
      ],
      "text/plain": [
       "Canvas(toolbar=Toolbar(toolitems=[('Home', 'Reset original view', 'home', 'home'), ('Back', 'Back to previous …"
      ]
     },
     "metadata": {},
     "output_type": "display_data"
    }
   ],
   "source": [
    "# Quick to start\n",
    "a = animation.FuncAnimation(plt.figure(), update, interval=100)\n",
    "\n",
    "# Now tell the widget back end it's time to show!\n",
    "plt.show()"
   ]
  },
  {
   "cell_type": "markdown",
   "metadata": {},
   "source": [
    "There we go. A nice example of how sampling from a distribution an be used with an animation.\n",
    "\n",
    "FuncAnimation like most of the other classes in the animation package is a subclass of the animation object. The animation object has a handy safe function, which allows you to write the animation to a file. This requires additional third party library such as FFMpeg which can take a bit to install and set up. But the result is that you can fairly easily export your animations directly from the Jupiter Web programming environment. \n",
    "\n",
    "You know, a figure animation with four sub-plots, one for each kind of distribution we might be interested in understanding could be pretty neat to see. We could plot the samples for the normal distribution in one, for a gamma distribution in another, and then maybe a couple of paramaterized distributions like the normal distribution with different levels of standard deviation. This would be a great way to practice the skills that you've learned in this module, as it would require that you manage multiple sub-plots within an animation using histograms. If you want to tackle that challenge, I'll put a link in the course shell to an optional practice notebook for you to look at."
   ]
  }
 ],
 "metadata": {
  "kernelspec": {
   "display_name": "Python 3 (ipykernel)",
   "language": "python",
   "name": "python3"
  },
  "language_info": {
   "codemirror_mode": {
    "name": "ipython",
    "version": 3
   },
   "file_extension": ".py",
   "mimetype": "text/x-python",
   "name": "python",
   "nbconvert_exporter": "python",
   "pygments_lexer": "ipython3",
   "version": "3.9.13"
  },
  "vscode": {
   "interpreter": {
    "hash": "aee8b7b246df8f9039afb4144a1f6fd8d2ca17a180786b69acc140d282b71a49"
   }
  }
 },
 "nbformat": 4,
 "nbformat_minor": 4
}
